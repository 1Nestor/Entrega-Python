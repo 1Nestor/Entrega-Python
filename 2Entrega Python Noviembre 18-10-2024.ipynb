{
 "cells": [
  {
   "cell_type": "code",
   "execution_count": null,
   "id": "e89d248d-081d-4943-9add-dd05ff0d1295",
   "metadata": {},
   "outputs": [],
   "source": []
  },
  {
   "cell_type": "markdown",
   "id": "880fe509-01e4-4351-aeab-821ca9390ca3",
   "metadata": {},
   "source": [
    "https://github.com/1Nestor/Entrega-Python"
   ]
  },
  {
   "cell_type": "code",
   "execution_count": null,
   "id": "3d9186a6-a1d1-4363-b1be-3c481930483a",
   "metadata": {},
   "outputs": [],
   "source": []
  },
  {
   "cell_type": "markdown",
   "id": "00c1c7e0-7763-4fd3-9e85-e784ec7b8282",
   "metadata": {},
   "source": [
    "## 1 Realizar una función que recibe 3 números (d, m, a) que representan una fecha (dia, mes y año). El programa debe devolver el día (la fecha) siguiente a la recibida por parámetro. Se debe tener en cuenta los días de cada mes y los años bisiestos."
   ]
  },
  {
   "cell_type": "code",
   "execution_count": null,
   "id": "e58ea1ef-6b22-49c4-8be0-cd32ed8ae15a",
   "metadata": {},
   "outputs": [],
   "source": []
  },
  {
   "cell_type": "code",
   "execution_count": 1,
   "id": "33b6eceb-d6a4-4c5f-8968-e46b13e97ca0",
   "metadata": {},
   "outputs": [
    {
     "ename": "IndentationError",
     "evalue": "unexpected indent (1207093755.py, line 28)",
     "output_type": "error",
     "traceback": [
      "\u001b[1;36m  Cell \u001b[1;32mIn[1], line 28\u001b[1;36m\u001b[0m\n\u001b[1;33m    return(dia+1)\u001b[0m\n\u001b[1;37m    ^\u001b[0m\n\u001b[1;31mIndentationError\u001b[0m\u001b[1;31m:\u001b[0m unexpected indent\n"
     ]
    }
   ],
   "source": [
    "dia=int(input(\"Introduzca día:\"))\n",
    "mes=int(input(\"Introduzca mes:\"))\n",
    "anio=int(input(\"Introduzca año:\"))\n",
    "if mes >= 1 and mes <=12:\n",
    "  if mes == 1 or mes == 3 or mes == 5 or mes == 7 or mes == 8 or mes == 10 or mes == 12:\n",
    "    if dia >= 1 and dia <= 31:\n",
    "      print(\"FECHA CORRECTA\")\n",
    "    else:\n",
    "      print(\"FECHA INCORRECTA\")\n",
    "  elif mes == 4 or mes == 6 or mes == 9 or mes == 11:\n",
    "    if dia >= 1 and dia <= 30:\n",
    "      print(\"FECHA CORRECTA\")\n",
    "    else:\n",
    "      print(\"FECHA INCORRECTA\")\n",
    "  elif mes == 2:\n",
    "    if anio % 4 == 0 and anio % 100 != 0 or anio % 400 == 0:\n",
    "      if dia >= 1 and dia <= 29:\n",
    "        print(\"FECHA CORRECTA\")\n",
    "      else:\n",
    "        print(\"FECHA INCORRECTA\")\n",
    "    else:\n",
    "      if dia >= 1 and dia <= 28:\n",
    "        print(\"FECHA CORRECTA\")\n",
    "      else:\n",
    "        print(\"FECHA INCORRECTA\")\n",
    "else:\n",
    "  print(\"FECHA INCORRECTA\")\n",
    "    return(dia+1)"
   ]
  },
  {
   "cell_type": "code",
   "execution_count": null,
   "id": "ad404b2f-9be2-43af-9749-8030180fce06",
   "metadata": {},
   "outputs": [],
   "source": []
  },
  {
   "cell_type": "code",
   "execution_count": 103,
   "id": "60e86893-c31d-4536-94ac-a6667a63e53b",
   "metadata": {},
   "outputs": [
    {
     "name": "stdin",
     "output_type": "stream",
     "text": [
      "Introduce la fecha de tu nacimiento en formato dd/mm/aaaa:  02/12/1999\n"
     ]
    },
    {
     "name": "stdout",
     "output_type": "stream",
     "text": [
      "Día 02\n",
      "Mes 12\n",
      "Año 1999\n"
     ]
    }
   ],
   "source": [
    "fecha = input(\"Introduce la fecha de tu nacimiento en formato dd/mm/aaaa: \")\n",
    "print('Día', fecha[:2])\n",
    "print('Mes', fecha[3:5])\n",
    "print('Año', fecha[6:])"
   ]
  },
  {
   "cell_type": "code",
   "execution_count": null,
   "id": "c5aa23ba-fd2b-4710-b119-7676e0d5c952",
   "metadata": {},
   "outputs": [],
   "source": []
  },
  {
   "cell_type": "code",
   "execution_count": null,
   "id": "2babaf64-5e6c-4361-916a-b2e6c24e420c",
   "metadata": {},
   "outputs": [],
   "source": []
  },
  {
   "cell_type": "code",
   "execution_count": 4,
   "id": "53659cae-d437-45e5-9c8d-5513bdc73a7a",
   "metadata": {},
   "outputs": [
    {
     "name": "stdout",
     "output_type": "stream",
     "text": [
      "Ingresa una fecha: \n",
      "Dia:  "
     ]
    },
    {
     "name": "stdin",
     "output_type": "stream",
     "text": [
      " 32\n"
     ]
    },
    {
     "name": "stdout",
     "output_type": "stream",
     "text": [
      "Mes:  "
     ]
    },
    {
     "name": "stdin",
     "output_type": "stream",
     "text": [
      " 4\n"
     ]
    },
    {
     "name": "stdout",
     "output_type": "stream",
     "text": [
      "Año:  "
     ]
    },
    {
     "name": "stdin",
     "output_type": "stream",
     "text": [
      " 2023\n"
     ]
    },
    {
     "name": "stdout",
     "output_type": "stream",
     "text": [
      "Ingresaste una fecha INVALIDA, favor de escribir fechas reales\n",
      "Dia Ingresado:  32 / 4 / 2023\n",
      "Siguiente dia:  33 / 4 / 2023\n",
      "Ingresa una fecha: \n",
      "Dia:  "
     ]
    },
    {
     "name": "stdin",
     "output_type": "stream",
     "text": [
      " 30\n"
     ]
    },
    {
     "name": "stdout",
     "output_type": "stream",
     "text": [
      "Mes:  "
     ]
    },
    {
     "name": "stdin",
     "output_type": "stream",
     "text": [
      " 2\n"
     ]
    },
    {
     "name": "stdout",
     "output_type": "stream",
     "text": [
      "Año:  "
     ]
    },
    {
     "name": "stdin",
     "output_type": "stream",
     "text": [
      " 2024\n"
     ]
    },
    {
     "name": "stdout",
     "output_type": "stream",
     "text": [
      "Dia Ingresado:  30 / 2 / 2024\n",
      "Siguiente dia:  31 / 2 / 2024\n",
      "Ingresa una fecha: \n",
      "Dia:  "
     ]
    },
    {
     "ename": "KeyboardInterrupt",
     "evalue": "Interrupted by user",
     "output_type": "error",
     "traceback": [
      "\u001b[1;31m---------------------------------------------------------------------------\u001b[0m",
      "\u001b[1;31mKeyboardInterrupt\u001b[0m                         Traceback (most recent call last)",
      "Cell \u001b[1;32mIn[4], line 19\u001b[0m\n\u001b[0;32m     17\u001b[0m \u001b[38;5;28mprint\u001b[39m(\u001b[38;5;124m\"\u001b[39m\u001b[38;5;124mIngresa una fecha: \u001b[39m\u001b[38;5;124m\"\u001b[39m)\n\u001b[0;32m     18\u001b[0m \u001b[38;5;28mprint\u001b[39m(\u001b[38;5;124m\"\u001b[39m\u001b[38;5;124mDia: \u001b[39m\u001b[38;5;124m\"\u001b[39m, end \u001b[38;5;241m=\u001b[39m \u001b[38;5;124m\"\u001b[39m\u001b[38;5;124m \u001b[39m\u001b[38;5;124m\"\u001b[39m)\n\u001b[1;32m---> 19\u001b[0m dia \u001b[38;5;241m=\u001b[39m \u001b[38;5;28mint\u001b[39m(\u001b[38;5;28;43minput\u001b[39;49m\u001b[43m(\u001b[49m\u001b[43m)\u001b[49m)\n\u001b[0;32m     20\u001b[0m \u001b[38;5;28mprint\u001b[39m(\u001b[38;5;124m\"\u001b[39m\u001b[38;5;124mMes: \u001b[39m\u001b[38;5;124m\"\u001b[39m, end \u001b[38;5;241m=\u001b[39m \u001b[38;5;124m\"\u001b[39m\u001b[38;5;124m \u001b[39m\u001b[38;5;124m\"\u001b[39m)\n\u001b[0;32m     21\u001b[0m mes \u001b[38;5;241m=\u001b[39m \u001b[38;5;28mint\u001b[39m(\u001b[38;5;28minput\u001b[39m())\n",
      "File \u001b[1;32m~\\AppData\\Local\\Programs\\Python\\Python312\\Lib\\site-packages\\ipykernel\\kernelbase.py:1202\u001b[0m, in \u001b[0;36mKernel.raw_input\u001b[1;34m(self, prompt)\u001b[0m\n\u001b[0;32m   1200\u001b[0m     msg \u001b[38;5;241m=\u001b[39m \u001b[38;5;124m\"\u001b[39m\u001b[38;5;124mraw_input was called, but this frontend does not support input requests.\u001b[39m\u001b[38;5;124m\"\u001b[39m\n\u001b[0;32m   1201\u001b[0m     \u001b[38;5;28;01mraise\u001b[39;00m StdinNotImplementedError(msg)\n\u001b[1;32m-> 1202\u001b[0m \u001b[38;5;28;01mreturn\u001b[39;00m \u001b[38;5;28;43mself\u001b[39;49m\u001b[38;5;241;43m.\u001b[39;49m\u001b[43m_input_request\u001b[49m\u001b[43m(\u001b[49m\n\u001b[0;32m   1203\u001b[0m \u001b[43m    \u001b[49m\u001b[38;5;28;43mstr\u001b[39;49m\u001b[43m(\u001b[49m\u001b[43mprompt\u001b[49m\u001b[43m)\u001b[49m\u001b[43m,\u001b[49m\n\u001b[0;32m   1204\u001b[0m \u001b[43m    \u001b[49m\u001b[38;5;28;43mself\u001b[39;49m\u001b[38;5;241;43m.\u001b[39;49m\u001b[43m_parent_ident\u001b[49m\u001b[43m[\u001b[49m\u001b[38;5;124;43m\"\u001b[39;49m\u001b[38;5;124;43mshell\u001b[39;49m\u001b[38;5;124;43m\"\u001b[39;49m\u001b[43m]\u001b[49m\u001b[43m,\u001b[49m\n\u001b[0;32m   1205\u001b[0m \u001b[43m    \u001b[49m\u001b[38;5;28;43mself\u001b[39;49m\u001b[38;5;241;43m.\u001b[39;49m\u001b[43mget_parent\u001b[49m\u001b[43m(\u001b[49m\u001b[38;5;124;43m\"\u001b[39;49m\u001b[38;5;124;43mshell\u001b[39;49m\u001b[38;5;124;43m\"\u001b[39;49m\u001b[43m)\u001b[49m\u001b[43m,\u001b[49m\n\u001b[0;32m   1206\u001b[0m \u001b[43m    \u001b[49m\u001b[43mpassword\u001b[49m\u001b[38;5;241;43m=\u001b[39;49m\u001b[38;5;28;43;01mFalse\u001b[39;49;00m\u001b[43m,\u001b[49m\n\u001b[0;32m   1207\u001b[0m \u001b[43m\u001b[49m\u001b[43m)\u001b[49m\n",
      "File \u001b[1;32m~\\AppData\\Local\\Programs\\Python\\Python312\\Lib\\site-packages\\ipykernel\\kernelbase.py:1245\u001b[0m, in \u001b[0;36mKernel._input_request\u001b[1;34m(self, prompt, ident, parent, password)\u001b[0m\n\u001b[0;32m   1242\u001b[0m \u001b[38;5;28;01mexcept\u001b[39;00m \u001b[38;5;167;01mKeyboardInterrupt\u001b[39;00m:\n\u001b[0;32m   1243\u001b[0m     \u001b[38;5;66;03m# re-raise KeyboardInterrupt, to truncate traceback\u001b[39;00m\n\u001b[0;32m   1244\u001b[0m     msg \u001b[38;5;241m=\u001b[39m \u001b[38;5;124m\"\u001b[39m\u001b[38;5;124mInterrupted by user\u001b[39m\u001b[38;5;124m\"\u001b[39m\n\u001b[1;32m-> 1245\u001b[0m     \u001b[38;5;28;01mraise\u001b[39;00m \u001b[38;5;167;01mKeyboardInterrupt\u001b[39;00m(msg) \u001b[38;5;28;01mfrom\u001b[39;00m \u001b[38;5;28;01mNone\u001b[39;00m\n\u001b[0;32m   1246\u001b[0m \u001b[38;5;28;01mexcept\u001b[39;00m \u001b[38;5;167;01mException\u001b[39;00m:\n\u001b[0;32m   1247\u001b[0m     \u001b[38;5;28mself\u001b[39m\u001b[38;5;241m.\u001b[39mlog\u001b[38;5;241m.\u001b[39mwarning(\u001b[38;5;124m\"\u001b[39m\u001b[38;5;124mInvalid Message:\u001b[39m\u001b[38;5;124m\"\u001b[39m, exc_info\u001b[38;5;241m=\u001b[39m\u001b[38;5;28;01mTrue\u001b[39;00m)\n",
      "\u001b[1;31mKeyboardInterrupt\u001b[0m: Interrupted by user"
     ]
    }
   ],
   "source": [
    "\n",
    "# Variables de Dia, Mes, Año\n",
    "dia = 0\n",
    "mes = 0\n",
    "anio = 0\n",
    "\n",
    "# Variables de Dia siguiente, Mes siguiente , Año siguiente\n",
    "siguiente_dia = 0\n",
    "siguiente_mes = 0\n",
    "siguiente_anio = 0\n",
    "\n",
    "# Meses con 31 días y 30 días\n",
    "mes31 = (1,3,5,7,8,10) # meses con 31 días\n",
    "mes30 = (4,6,9,11) # meses con 30 días\n",
    "\n",
    "while True:\n",
    "    # Ingresar fechas \n",
    "    print(\"Ingresa una fecha: \")\n",
    "    print(\"Dia: \", end = \" \")\n",
    "    dia = int(input())\n",
    "    print(\"Mes: \", end = \" \")\n",
    "    mes = int(input())\n",
    "    print(\"Año: \", end = \" \")\n",
    "    anio = int(input())\n",
    "\n",
    "    # Días en condiciones normales\n",
    "    siguiente_dia = dia + 1\n",
    "    siguiente_mes = mes\n",
    "\n",
    "    # Para el último día del año\n",
    "    if mes == 12 and dia == 31:\n",
    "        siguiente_dia = 1\n",
    "        siguiente_mes = 1\n",
    "        siguiente_anio = anio + 1\n",
    "    else:\n",
    "        siguiente_anio = anio\n",
    "\n",
    "    # Último día de los meses con 31 días\n",
    "    for i in range(len(mes31)):\n",
    "        if dia == 31 and mes == mes31[i]:\n",
    "            siguiente_dia = 1\n",
    "            siguiente_mes = mes + 1\n",
    "            \n",
    "    # Último día de los mese con 30 días        \n",
    "    for i in range(len(mes30))            :\n",
    "        if dia == 30 and mes == mes30[i]:\n",
    "            siguiente_dia = 1\n",
    "            siguiente_mes = mes + 1\n",
    "    \n",
    "    # Último día de Febrero de dia 28\n",
    "    if mes == 2 and dia == 28:\n",
    "        siguiente_dia = 1\n",
    "        siguiente_mes = mes + 1\n",
    "    bisiesto = anio % 4\n",
    "    \n",
    "    # Último día de Febrero de dia 28\n",
    "    if dia == 29 and mes == 2 and bisiesto == True:\n",
    "        siguiente_dia = 1\n",
    "        siguiente_mes = mes + 1\n",
    "\n",
    "    #Validation: Real Day of the Calendar (Number of Day and Month Limits)\n",
    "    if dia >= 32 or mes >= 13:\n",
    "        print(\"Ingresaste una fecha INVALIDA, favor de escribir fechas reales\")\n",
    "        \n",
    "    if siguiente_dia ==32:\n",
    "        print(\"Ingresaste una fecha INVALIDA, favor de escribir fechas reales\")\n",
    "        \n",
    "    else:\n",
    "        print(\"Dia Ingresado: \", dia, \"/\", mes, \"/\", anio) #Print of User's Day\n",
    "        print(\"Siguiente dia: \", siguiente_dia, \"/\", siguiente_mes, \"/\", siguiente_anio) #Print of Tomorrow User's Day\n",
    "\n"
   ]
  },
  {
   "cell_type": "code",
   "execution_count": null,
   "id": "facfdd4a-61b2-4828-86f4-8faf7dcc6b47",
   "metadata": {},
   "outputs": [],
   "source": [
    "def es_bisiesto(anyo):\n",
    "\n",
    "     if((anyo % 400 == 0) or (anyo % 100 != 0) and\n",
    "     (anyo % 4 == 0)):\n",
    "         return True\n",
    "     else:\n",
    "         return False\n",
    "\n",
    "anyo = 1992\n",
    "print(f'Es bisiesto el año {anyo}? {es_bisiesto(anyo)}')"
   ]
  },
  {
   "cell_type": "code",
   "execution_count": null,
   "id": "1669b21f-a6f8-434b-8a32-1a4696537944",
   "metadata": {},
   "outputs": [],
   "source": []
  },
  {
   "cell_type": "code",
   "execution_count": null,
   "id": "c4786353-8928-4ee4-9590-8f4fd8d4766c",
   "metadata": {},
   "outputs": [],
   "source": []
  },
  {
   "cell_type": "code",
   "execution_count": null,
   "id": "26dc8e5c-adf9-4cb4-b14b-a00855d53f4c",
   "metadata": {},
   "outputs": [],
   "source": [
    "    \n",
    "    # Último día de Febrero de dia 28\n",
    "    if mes == 2 and dia == 28:\n",
    "        siguiente_dia = 1\n",
    "        siguiente_mes = mes + 1\n",
    "    bisiesto = anio % 4\n",
    "    "
   ]
  },
  {
   "cell_type": "code",
   "execution_count": 4,
   "id": "c10b7ec5-21a0-4956-9136-a462b84f95a1",
   "metadata": {},
   "outputs": [
    {
     "ename": "SyntaxError",
     "evalue": "invalid syntax (3930270526.py, line 5)",
     "output_type": "error",
     "traceback": [
      "\u001b[1;36m  Cell \u001b[1;32mIn[4], line 5\u001b[1;36m\u001b[0m\n\u001b[1;33m    bisiesto =   if((anio % 400 == 0) or (anio % 100 != 0) and\u001b[0m\n\u001b[1;37m                 ^\u001b[0m\n\u001b[1;31mSyntaxError\u001b[0m\u001b[1;31m:\u001b[0m invalid syntax\n"
     ]
    }
   ],
   "source": [
    "    \n",
    "    # Último día de Febrero de dia 28\n",
    "    if mes == 2 and dia == 28:\n",
    "        siguiente_dia = 1\n",
    "        siguiente_mes = mes + 1\n",
    "    bisiesto =   if((anio % 400 == 0) or (anio % 100 != 0) and\n",
    "     (anio % 4 == 0)):"
   ]
  },
  {
   "cell_type": "code",
   "execution_count": null,
   "id": "dd1f20e8-30cb-4c3d-a52f-e1952c1cd668",
   "metadata": {},
   "outputs": [],
   "source": []
  },
  {
   "cell_type": "code",
   "execution_count": null,
   "id": "24588b59-7062-4557-8e78-ead681c3c323",
   "metadata": {},
   "outputs": [],
   "source": []
  },
  {
   "cell_type": "code",
   "execution_count": 28,
   "id": "4fdcbcfe-af84-4e51-9235-00db4270dc01",
   "metadata": {},
   "outputs": [
    {
     "ename": "IndentationError",
     "evalue": "unexpected indent (2396080460.py, line 2)",
     "output_type": "error",
     "traceback": [
      "\u001b[1;36m  Cell \u001b[1;32mIn[28], line 2\u001b[1;36m\u001b[0m\n\u001b[1;33m    if mes == 2 and dia == 28:\u001b[0m\n\u001b[1;37m    ^\u001b[0m\n\u001b[1;31mIndentationError\u001b[0m\u001b[1;31m:\u001b[0m unexpected indent\n"
     ]
    }
   ],
   "source": [
    "# Último día de Febrero de dia 28\n",
    "    if mes == 2 and dia == 28:\n",
    "        siguiente_dia = 1\n",
    "        siguiente_mes = mes + 1\n",
    "    bisiesto = anio % 400 == 0 or anio % 100 != 0 and anio % 4 == 1\n",
    "    \n",
    "    # Último día de Febrero de dia 28\n",
    "    if dia = 29 and mes = 2 and bisiesto = 1:\n",
    "        siguiente_dia = 1\n",
    "        siguiente_mes = mes + 1\n",
    "\n",
    "    if dia = 28 and mes = 2 and bisiesto =:0\n",
    "        siguiente_dia = 1\n",
    "        siguiente_mes = mes + 1\n",
    "         \n",
    "    #Validation: Real Day of the Calendar (Number of Day and Month Limits)\n",
    "    if dia >= 32 or mes >= 13:\n",
    "        print(\"Ingresaste una fecha INVALIDA, favor de escribir fechas reales\")\n",
    "        print(\"Ingresaste una fecha INVALIDA, favor de escribir fechas reales\")\n",
    "\n",
    "    if dia =29 and mes =12 and bisiesto =0:\n",
    "        print(\"Ingresaste una fecha INVALIDA, favor de escribir fechas reales\")\n",
    "\n",
    "    else:\n",
    "        print(\"Dia Ingresado: \", dia, \"/\", mes, \"/\", anio) #Print of User's Day\n",
    "        print(\"Siguiente dia: \", siguiente_dia, \"/\", siguiente_mes, \"/\", siguiente_anio) #Print of Tomorrow User's Day"
   ]
  },
  {
   "cell_type": "code",
   "execution_count": null,
   "id": "841c67ef-b62d-4477-922e-d5b6174876d6",
   "metadata": {},
   "outputs": [],
   "source": []
  },
  {
   "cell_type": "markdown",
   "id": "c6840c66-3d3b-494c-8e3e-b7fa9e93c35b",
   "metadata": {},
   "source": [
    "### El bueno"
   ]
  },
  {
   "cell_type": "code",
   "execution_count": null,
   "id": "dd91d22e-c161-4dbe-b097-01a185f36765",
   "metadata": {},
   "outputs": [],
   "source": [
    "###### Variables de Dia, Mes, Año\n",
    "dia = 0\n",
    "mes = 0\n",
    "anio = 0\n",
    "\n",
    "# Variables de Dia siguiente, Mes siguiente , Año siguiente\n",
    "siguiente_dia = 0\n",
    "siguiente_mes = 0\n",
    "siguiente_anio = 0\n",
    "\n",
    "# Meses con 31 días y 30 días\n",
    "mes31 = (1,3,5,7,8,10) # meses con 31 días\n",
    "mes30 = (4,6,9,11) # meses con 30 días\n",
    "\n",
    "while True:\n",
    "    # Ingresar fechas \n",
    "    print(\"Ingresa una fecha: \")\n",
    "    print(\"Dia: \", end = \" \")\n",
    "    dia = int(input())\n",
    "    print(\"Mes: \", end = \" \")\n",
    "    mes = int(input())\n",
    "    print(\"Año: \", end = \" \")\n",
    "    anio = int(input())\n",
    "\n",
    "    # Días en condiciones normales\n",
    "    siguiente_dia = dia + 1\n",
    "    siguiente_mes = mes\n",
    "\n",
    "    # Para el último día del año\n",
    "    if mes == 12 and dia == 31:\n",
    "        siguiente_dia = 1\n",
    "        siguiente_mes = 1\n",
    "        siguiente_anio = anio + 1\n",
    "    else:\n",
    "        siguiente_anio = anio\n",
    "\n",
    "    # Último día de los meses con 31 días\n",
    "    for i in range(len(mes31)):\n",
    "        if dia == 31 and mes == mes31[i]:\n",
    "            siguiente_dia = 1\n",
    "            siguiente_mes = mes + 1\n",
    "            \n",
    "    # Último día de los meses con 30 días        \n",
    "    for i in range(len(mes30)):\n",
    "        if dia == 30 and mes == mes30[i]:\n",
    "            siguiente_dia = 1\n",
    "            siguiente_mes = mes + 1\n",
    "            \n",
    "    #  # Último día de los meses con 30 días que da error si pones 31   \n",
    "    # for i in range(len(mes30)):\n",
    "    #     if dia >= 31 and mes == mes30[i]:\n",
    "    #         siguiente_dia = 1\n",
    "    #         siguiente_mes = mes + 1\n",
    "\n",
    "     # Último día de los meses con 30 días que da error si pones 31 o 32   \n",
    "    for i in range(len(mes30)):\n",
    "        if dia >= 31 and mes == mes30[i]:\n",
    "            print(\"Ingresaste una fecha INVALIDA, favor de escribir fechas reales\")\n",
    "            \n",
    "     # Último día de los meses con 31 días que da error si pones 32         \n",
    "    for i in range(len(mes31)):\n",
    "        if dia > 31 and mes == mes31[i]:\n",
    "            print(\"Ingresaste una fecha INVALIDA, favor de escribir fechas reales\")\n",
    "\n",
    "    \n",
    "    # Último día de Febrero de dia 28 No bisiesto\n",
    "    if mes == 2 and dia == 28:\n",
    "        siguiente_dia = 1\n",
    "        siguiente_mes = mes + 1\n",
    "    bisiesto = anio % 4\n",
    "\n",
    "    \n",
    "    # Último día de Febrero de dia 28 y bisiesto\n",
    "    \n",
    "    if dia == 28 and mes == 2 and bisiesto == 0:\n",
    "        siguiente_dia = 29\n",
    "        siguiente_mes = mes\n",
    "\n",
    "    \n",
    "    # Último día de Febrero de dia 29 y bisiesto\n",
    "\n",
    "    if dia == 29 and mes == 2 and bisiesto == 0:\n",
    "        siguiente_dia = 1\n",
    "        siguiente_mes = mes + 1\n",
    "\n",
    "        \n",
    "    # Límites para la validación: días correctos e incorrectos , meses correctos e incorrectos\n",
    "  \n",
    "    if dia >= 32 or mes >= 13:\n",
    "        print(\"Ingresaste una fecha INVALIDA, favor de escribir fechas reales\")\n",
    "\n",
    "    if dia >= 31 and mes in mes30:\n",
    "        print(\"Ingresaste una fecha INVALIDA, favor de escribir fechas reales\")\n",
    "    \n",
    "    if siguiente_dia > 31:\n",
    "        print(\"Ingresaste una fecha INVALIDA, favor de escribir fechas reales\")\n",
    "        \n",
    "    if siguiente_dia >29 and mes == 2:\n",
    "        print(\"Ingresaste una fecha INVALIDA, favor de escribir fechas reales\")\n",
    "        \n",
    "    else:\n",
    "        print(\"Dia Ingresado: \", dia, \"/\", mes, \"/\", anio)\n",
    "        print(\"Siguiente dia: \", siguiente_dia, \"/\", siguiente_mes, \"/\", siguiente_anio)"
   ]
  },
  {
   "cell_type": "code",
   "execution_count": null,
   "id": "ce50f1a8-8d6a-4494-89c1-90dce881c335",
   "metadata": {},
   "outputs": [],
   "source": []
  },
  {
   "cell_type": "code",
   "execution_count": null,
   "id": "fbaf7b18-ecf2-4689-8b83-5e0c09a05eb8",
   "metadata": {},
   "outputs": [],
   "source": []
  },
  {
   "cell_type": "markdown",
   "id": "9be36c6f-9937-4510-9eff-f606f3917f9e",
   "metadata": {},
   "source": [
    "# 2.Dada la siguiente lista: \n",
    "\n",
    "palabras_espanol = [\"Perro\", \"Gato\", \"Casa\", \"Coche\",\n",
    "\"Arbol\", \"Sol\", \"Luna\", \"Mar\", \"Montaña\", \"Río\",\n",
    "\"Playa\", \"Libro\", \"Computadora\", \"Teléfono\",\n",
    "\"Amigo\", \"Familia\", \"Trabajo\", \"Comida\", \"Película\",\n",
    "\"Música\", \"Viaje\", \"Deporte\", \"Juego\", \"Amor\", \"Odio\",\n",
    "\"Felicidad\", \"Tristeza\", \"Alegría\", \"Dolor\", \"Sueño\",\"Noche\", \"Día\", \"Agua\", \"Fuego\", \"Aire\", \"Tierra\",\n",
    "\"Cielo\", \"Estrella\", \"Flor\", \"Fruta\", \"Verdura\",\n",
    "\"Chocolate\", \"Café\", \"Té\", \"Vino\", \"Cerveza\",\n",
    "\"Dinero\", \"Tiempo\", \"Reloj\", \"Reloj\"]\n",
    "\n",
    "# Construye un programa que muestre por pantalla cuantas veces aparece cada una de ellas.\n"
   ]
  },
  {
   "cell_type": "code",
   "execution_count": 53,
   "id": "fad730bd-1782-446f-b0eb-9ed9151f35f6",
   "metadata": {},
   "outputs": [
    {
     "name": "stdout",
     "output_type": "stream",
     "text": [
      "{'Fuego': 1, 'Sol': 1, 'Arbol': 1, 'Comida': 1, 'Dinero': 1, 'Chocolate': 1, 'Computadora': 1, 'Amigo': 1, 'Viaje': 1, 'Gato': 1, 'Dolor': 1, 'Perro': 1, 'Aire': 1, 'Luna': 1, 'Amor': 1, 'Tierra': 1, 'Juego': 1, 'Día': 1, 'Deporte': 1, 'Música': 1, 'Fruta': 1, 'Película': 1, 'Playa': 1, 'Libro': 1, 'Trabajo': 1, 'Estrella': 1, 'Montaña': 1, 'Verdura': 1, 'Mar': 1, 'Té': 1, 'Alegría': 1, 'Felicidad': 1, 'Tristeza': 1, 'Flor': 1, 'Vino': 1, 'Familia': 1, 'Coche': 1, 'Casa': 1, 'Teléfono': 1, 'Río': 1, 'Cielo': 1, 'Cerveza': 1, 'Reloj': 2, 'Noche': 1, 'Odio': 1, 'Sueño': 1, 'Café': 1, 'Tiempo': 1, 'Agua': 1}\n"
     ]
    }
   ],
   "source": [
    "palabras_espanol = [\"Perro\", \"Gato\", \"Casa\", \"Coche\",\n",
    "\"Arbol\", \"Sol\", \"Luna\", \"Mar\", \"Montaña\", \"Río\",\n",
    "\"Playa\", \"Libro\", \"Computadora\", \"Teléfono\",\n",
    "\"Amigo\", \"Familia\", \"Trabajo\", \"Comida\", \"Película\",\n",
    "\"Música\", \"Viaje\", \"Deporte\", \"Juego\", \"Amor\", \"Odio\",\n",
    "\"Felicidad\", \"Tristeza\", \"Alegría\", \"Dolor\", \"Sueño\",\"Noche\", \"Día\", \"Agua\", \"Fuego\", \"Aire\", \"Tierra\",\n",
    "\"Cielo\", \"Estrella\", \"Flor\", \"Fruta\", \"Verdura\",\n",
    "\"Chocolate\", \"Café\", \"Té\", \"Vino\", \"Cerveza\",\n",
    "\"Dinero\", \"Tiempo\", \"Reloj\", \"Reloj\"]\n",
    "\n",
    "\n",
    "print (dict((i, palabras_espanol.count(i)) for i in set(palabras_espanol)))"
   ]
  },
  {
   "cell_type": "code",
   "execution_count": null,
   "id": "cd4a37a2-e8b2-4661-bac2-b7d9c8860190",
   "metadata": {},
   "outputs": [],
   "source": []
  },
  {
   "cell_type": "code",
   "execution_count": null,
   "id": "ed007389-889c-4b09-b7f1-8ef216c37e4a",
   "metadata": {},
   "outputs": [],
   "source": []
  },
  {
   "cell_type": "code",
   "execution_count": null,
   "id": "d0771e7a-8be5-44fb-b10a-f0ee598aa167",
   "metadata": {},
   "outputs": [],
   "source": []
  },
  {
   "attachments": {},
   "cell_type": "markdown",
   "id": "2f6a4549-087a-4fe2-9bcf-9b82159bffd2",
   "metadata": {},
   "source": [
    "# 3.Dado el siguiente diccionario: \n",
    "precio_Origen = { \"cebolla\": [30.3, 20.3, 25.9, 39.0], # céntimos/kg \n",
    "                 \"patata\":[0.33, 0.43, 0.34, 0.12], # euro/kg \n",
    "                 \"naranja\":[0.45, 0.56, 0.38, 0.43] # euro/kg } \n",
    "Responde a las siguientes preguntas: • ¿Cuál es el precio máximo de cada producto?\n",
    "\n",
    "• ¿Cuál es el precio máximo de cada producto?\n",
    "\n",
    "• ¿Cuál es el producto más caro?\n",
    "\n",
    "• ¿Qué día son más caras las naranjas?\n"
   ]
  },
  {
   "cell_type": "code",
   "execution_count": 9,
   "id": "9d5ef144-0b16-4490-b5b7-15987d5ef631",
   "metadata": {},
   "outputs": [
    {
     "name": "stdout",
     "output_type": "stream",
     "text": [
      "cebolla\n"
     ]
    }
   ],
   "source": [
    "precio_Origen = { \"cebolla\": [30.3, 20.3, 25.9, 39.0], # céntimos/kg \n",
    "                 \"patata\":[0.33, 0.43, 0.34, 0.12], # euro/kg \n",
    "                 \"naranja\":[0.45, 0.56, 0.38, 0.43] # euro/kg }\n",
    "                }\n",
    "\n",
    "# ¿Cuál es el producto más caro?\n",
    "\n",
    "p_max = max(precio_Origen, key=lambda key: precio_Origen[key])\n",
    "print(p_max)\n",
    "\n",
    "\n"
   ]
  },
  {
   "cell_type": "markdown",
   "id": "6400ebb1-4b3c-4c9f-9329-88560fe49a89",
   "metadata": {},
   "source": [
    "### Dado que no todos los productos están en misma magnitud de peso y monetaria, unos céntimos kg otros euros kg decido modificar el diccionario para que todas las variables estén en la misma magnitud peso y moneda dando lugar al diccionario precio_Origen2"
   ]
  },
  {
   "cell_type": "code",
   "execution_count": 12,
   "id": "a434558c-3359-4634-b360-452f50890fd5",
   "metadata": {},
   "outputs": [
    {
     "name": "stdout",
     "output_type": "stream",
     "text": [
      "naranja\n",
      "---------------------------------------------------------------------------\n",
      "{'cebolla': [0.303, 0.203, 0.259, 0.39], 'patata': [0.33, 0.43, 0.34, 0.12], 'naranja': [0.45, 0.56, 0.38, 0.43]}\n",
      "---------------------------------------------------------------------------\n",
      " El producto más caro es la naranja, con un precio de 0.56\n"
     ]
    }
   ],
   "source": [
    "# Dado que no todos los productos están en misma magnitud de peso y monetaria, unos céntimos kg otros euros kg\n",
    "# decido modificar el diccionario para que todas las variables estén en la misma magnitud peso y moneda\n",
    "# dando lugar al diccionario precio_Origen2\n",
    "\n",
    "\n",
    "precio_Origen2=precio_Origen\n",
    "precio_Origen2[\"cebolla\"]=[30.3/100,20.3/100,25.9/100,39/100]\n",
    "\n",
    "# ¿Cuál es el producto más caro?\n",
    "\n",
    "p_max = max(precio_Origen2, key=lambda key: precio_Origen2[key])\n",
    "print(p_max)\n",
    "\n",
    "print(\"---\"*25)\n",
    "\n",
    "print(precio_Origen2)\n",
    "print(\"---\"*25)\n",
    "# type(precio_Origen2)\n",
    "\n",
    "print(f\" El producto más caro es la {p_max}, con un precio de {max(precio_Origen2[\"naranja\"])}\")"
   ]
  },
  {
   "cell_type": "code",
   "execution_count": null,
   "id": "dd40b2a9-a48c-4f99-ab83-3c0fa17c465c",
   "metadata": {},
   "outputs": [],
   "source": []
  },
  {
   "cell_type": "code",
   "execution_count": 74,
   "id": "f05168ce-fdc0-4e71-b4c6-680d918ffe7b",
   "metadata": {},
   "outputs": [
    {
     "name": "stdout",
     "output_type": "stream",
     "text": [
      "39.0\n",
      "0.43\n",
      "0.56\n",
      "dict_items([('cebolla', [30.3, 20.3, 25.9, 39.0]), ('patata', [0.33, 0.43, 0.34, 0.12]), ('naranja', [0.45, 0.56, 0.38, 0.43])])\n",
      "dict_keys(['cebolla', 'patata', 'naranja'])\n",
      "dict_values([[30.3, 20.3, 25.9, 39.0], [0.33, 0.43, 0.34, 0.12], [0.45, 0.56, 0.38, 0.43]])\n"
     ]
    }
   ],
   "source": [
    "# ¿Cuál es el precio máximo de cada producto?\n",
    "print(max(precio_Origen[\"cebolla\"]))\n",
    "print(max(precio_Origen[\"patata\"]))\n",
    "print(max(precio_Origen[\"naranja\"]))\n",
    "\n",
    "\n",
    "\n",
    "print(precio_Origen.items())\n",
    "print(precio_Origen.keys())\n",
    "print(precio_Origen.values())"
   ]
  },
  {
   "cell_type": "code",
   "execution_count": 84,
   "id": "64ad0414-8b80-4b76-b699-fec90a5a5209",
   "metadata": {},
   "outputs": [
    {
     "name": "stdout",
     "output_type": "stream",
     "text": [
      "Key associated to the maximum value: cebolla - Maximum value: [30.3, 20.3, 25.9, 39.0]\n"
     ]
    }
   ],
   "source": [
    "print(\"Key associated to the maximum value: {} - Maximum value: {}\".format(max(precio_Origen, key=precio_Origen.get), precio_Origen[max(precio_Origen, key=precio_Origen.get)]))\n"
   ]
  },
  {
   "cell_type": "code",
   "execution_count": 87,
   "id": "91ae8b61-e348-4025-a527-4131869846dd",
   "metadata": {},
   "outputs": [
    {
     "name": "stdout",
     "output_type": "stream",
     "text": [
      "cebolla [30.3, 20.3, 25.9, 39.0]\n"
     ]
    }
   ],
   "source": [
    "print(max(precio_Origen, key=precio_Origen.get), precio_Origen[max(precio_Origen, key=precio_Origen.get)])\n"
   ]
  },
  {
   "cell_type": "code",
   "execution_count": 33,
   "id": "dc88d41e-aaf8-4ee6-8b86-2d4eac54b5e3",
   "metadata": {},
   "outputs": [
    {
     "data": {
      "text/plain": [
       "0.56"
      ]
     },
     "execution_count": 33,
     "metadata": {},
     "output_type": "execute_result"
    }
   ],
   "source": [
    "precio_Origen[\"naranja\"][1]\n",
    "\n",
    "# print (MiMarga ['Padres'][0:2])"
   ]
  },
  {
   "cell_type": "code",
   "execution_count": null,
   "id": "67bffc6b-a7e7-4577-947a-5e962dfde877",
   "metadata": {},
   "outputs": [],
   "source": []
  },
  {
   "cell_type": "code",
   "execution_count": null,
   "id": "ef89b8bb-be56-4a4c-9590-592415044484",
   "metadata": {},
   "outputs": [],
   "source": [
    "print(\"Key associated to the maximum value: {} - Maximum value: {}\".format(max(points, key=points.get), points[max(points, key=points.get)]))\n",
    "Key associated to the maximum value: Kate - Maximum value: 450"
   ]
  },
  {
   "cell_type": "code",
   "execution_count": null,
   "id": "405f71c9-828f-41ad-8662-f0589e763c8d",
   "metadata": {},
   "outputs": [],
   "source": []
  },
  {
   "cell_type": "code",
   "execution_count": null,
   "id": "4a448a93-65e4-49ae-b451-6ccb2d77d39d",
   "metadata": {},
   "outputs": [],
   "source": []
  },
  {
   "cell_type": "code",
   "execution_count": 125,
   "id": "f9101fbb-d0dc-4dd8-b554-6ab231cbf71f",
   "metadata": {},
   "outputs": [],
   "source": [
    "mayor_precio=sorted(precio_Origen, key=lambda key: precio_Origen2[key])"
   ]
  },
  {
   "cell_type": "code",
   "execution_count": 126,
   "id": "4c1f1ad1-0c3f-4263-88d0-28b2c8b5a1c0",
   "metadata": {},
   "outputs": [
    {
     "data": {
      "text/plain": [
       "['cebolla', 'patata', 'naranja']"
      ]
     },
     "execution_count": 126,
     "metadata": {},
     "output_type": "execute_result"
    }
   ],
   "source": [
    "mayor_precio"
   ]
  },
  {
   "cell_type": "code",
   "execution_count": 124,
   "id": "3a416b13-d13b-4a43-84d8-405cfec8ab25",
   "metadata": {},
   "outputs": [],
   "source": [
    "stats = {\"key1\": 20, \"key2\": 35, \"key3\": 44}\n",
    "\n"
   ]
  },
  {
   "cell_type": "code",
   "execution_count": null,
   "id": "b364d150-47d7-46c2-afec-687ee2dd31b2",
   "metadata": {},
   "outputs": [],
   "source": []
  },
  {
   "cell_type": "code",
   "execution_count": 127,
   "id": "3da64f86-4736-4630-a127-773ac733b879",
   "metadata": {},
   "outputs": [
    {
     "data": {
      "text/plain": [
       "dict_values([[30.3, 20.3, 25.9, 39.0], [0.33, 0.43, 0.34, 0.12], [0.45, 0.56, 0.38, 0.43]])"
      ]
     },
     "execution_count": 127,
     "metadata": {},
     "output_type": "execute_result"
    }
   ],
   "source": [
    "# ¿Qué día son más caras las naranjas?\n",
    "\n",
    "puntuaciones = {\"Juan\": 80, \"María\": 90, \"Pedro\": 75}\n",
    "valores = puntuaciones.values()  # Salida: valores = [80, 90, 75]\n",
    "\n",
    "\n",
    "precio_Origen\n",
    "valores = precio_Origen.values()  # Salida: valores = [80, 90, 75]\n",
    "valores"
   ]
  },
  {
   "cell_type": "code",
   "execution_count": 129,
   "id": "821d143c-e5be-47b8-acfd-eadc08fa7e5c",
   "metadata": {},
   "outputs": [
    {
     "data": {
      "text/plain": [
       "[0.45, 0.56, 0.38, 0.43]"
      ]
     },
     "execution_count": 129,
     "metadata": {},
     "output_type": "execute_result"
    }
   ],
   "source": [
    "# ¿Qué día son más caras las naranjas?\n",
    "precio_Origen33 = precio_Origen[\"naranja\"]\n",
    "precio_Origen33\n",
    "\n"
   ]
  },
  {
   "cell_type": "code",
   "execution_count": 43,
   "id": "b50d82ac-4045-4f1c-9b15-b9141d9a8498",
   "metadata": {},
   "outputs": [
    {
     "name": "stdout",
     "output_type": "stream",
     "text": [
      " Si el 1º número que aparece en cada clave del diccionario corresponde al lunes, el día en que la naranja es más cara, sería el martes con un precio de 0.56\n"
     ]
    }
   ],
   "source": [
    "print(f\" Si el 1º número que aparece en cada clave del diccionario corresponde al lunes, el día en que la {p_max} es más cara, sería el martes con un precio de {(precio_Origen2[\"naranja\"][1])}\")"
   ]
  },
  {
   "cell_type": "code",
   "execution_count": 88,
   "id": "1d3baa9c-95aa-4148-a044-b3d62836246d",
   "metadata": {},
   "outputs": [
    {
     "data": {
      "text/plain": [
       "<function __main__.<lambda>(data)>"
      ]
     },
     "execution_count": 88,
     "metadata": {},
     "output_type": "execute_result"
    }
   ],
   "source": [
    "lambda data: data[1]"
   ]
  },
  {
   "cell_type": "code",
   "execution_count": 93,
   "id": "75f8ccbb-0bf7-47d2-9d03-6043d94719e7",
   "metadata": {},
   "outputs": [
    {
     "data": {
      "text/plain": [
       "('naranja', [0.45, 0.56, 0.38, 0.43])"
      ]
     },
     "execution_count": 93,
     "metadata": {},
     "output_type": "execute_result"
    }
   ],
   "source": [
    "max(precio_Origen2.items(), key = lambda data: data[1])\n"
   ]
  },
  {
   "cell_type": "code",
   "execution_count": 98,
   "id": "184c073b-562c-4abe-bca7-51160c65057a",
   "metadata": {},
   "outputs": [
    {
     "data": {
      "text/plain": [
       "('patata', [0.33, 0.43, 0.34, 0.12])"
      ]
     },
     "execution_count": 98,
     "metadata": {},
     "output_type": "execute_result"
    }
   ],
   "source": [
    "max(precio_Origen2.items())"
   ]
  },
  {
   "cell_type": "code",
   "execution_count": null,
   "id": "b46723dc-c4e0-4295-803f-4ad967610c84",
   "metadata": {},
   "outputs": [],
   "source": []
  },
  {
   "cell_type": "code",
   "execution_count": 44,
   "id": "ebf38207-ab49-43c0-ad7d-cbae294db6d5",
   "metadata": {},
   "outputs": [
    {
     "name": "stdout",
     "output_type": "stream",
     "text": [
      "{'A': None, 'B': None, 'C': None}\n"
     ]
    }
   ],
   "source": [
    " claves = ['A', 'B', 'C']\n",
    " dicc = dict.fromkeys(claves)\n",
    "print(dicc)\n",
    " # dicc {'A': None, 'B': None, 'C': None}\n",
    " dicc = dict.fromkeys(claves, '***')\n",
    " # dicc {'A': '***', 'B': '***', 'C': '***'}"
   ]
  },
  {
   "cell_type": "code",
   "execution_count": 71,
   "id": "b609eebf-9125-4918-80e5-f0f853d8dde4",
   "metadata": {},
   "outputs": [
    {
     "name": "stdout",
     "output_type": "stream",
     "text": [
      "{'A': None, 'B': None, 'C': None}\n",
      "{'A': '***', 'B': '***', 'C': '***'}\n"
     ]
    }
   ],
   "source": [
    " claves = ['A', 'B', 'C']\n",
    " dicc = dict.fromkeys(claves)\n",
    "print(dicc)\n",
    "\n",
    " dicc = dict.fromkeys(claves, '***')\n",
    "\n",
    "print(dicc)\n"
   ]
  },
  {
   "cell_type": "code",
   "execution_count": null,
   "id": "aaf22d5d-177e-4767-bc3e-707f266ce15f",
   "metadata": {},
   "outputs": [],
   "source": []
  },
  {
   "cell_type": "code",
   "execution_count": 50,
   "id": "d75132e8-c38b-498a-ad6b-a8a9606ca2c9",
   "metadata": {},
   "outputs": [
    {
     "data": {
      "text/plain": [
       "[30.3, 20.3, 25.9, 39.0]"
      ]
     },
     "execution_count": 50,
     "metadata": {},
     "output_type": "execute_result"
    }
   ],
   "source": [
    "precio_Origen = { \"cebolla\": [30.3, 20.3, 25.9, 39.0], # céntimos/kg \n",
    "                 \"patata\":[0.33, 0.43, 0.34, 0.12], # euro/kg \n",
    "                 \"naranja\":[0.45, 0.56, 0.38, 0.43] # euro/kg }\n",
    "                }\n",
    "\n",
    "precio_Origen2 = dict.fromkeys(precio_Origen,\"111\")\n",
    "precio_Origen2\n",
    "\n",
    "precio_Origen3 = precio_Origen[\"cebolla\"]\n",
    "precio_Origen4=dict.fromkeys(precio_Origen3,\"bollae\")\n",
    "\n",
    "precio_Origen4\n",
    "precio_Origen3"
   ]
  },
  {
   "cell_type": "code",
   "execution_count": null,
   "id": "7f86c7ec-4494-4320-bacf-889e37990914",
   "metadata": {},
   "outputs": [],
   "source": []
  },
  {
   "cell_type": "code",
   "execution_count": 87,
   "id": "77b49251-851d-41a4-86c2-e2e92a0109fd",
   "metadata": {},
   "outputs": [
    {
     "data": {
      "text/plain": [
       "{'uno': 1, 'dos': 2}"
      ]
     },
     "execution_count": 87,
     "metadata": {},
     "output_type": "execute_result"
    }
   ],
   "source": [
    "d = {'uno': 1, 'dos': 2}\n",
    "d\n",
    "# d['uno'] = 1.0\n",
    "# d\n",
    "# {'uno': 1.0, 'dos': 2}\n",
    "\n",
    "# https://j2logo.com/python/tutorial/tipo-dict-python/"
   ]
  },
  {
   "cell_type": "code",
   "execution_count": null,
   "id": "d9d48063-10f8-43c8-9b36-ca5146a3c460",
   "metadata": {},
   "outputs": [],
   "source": []
  },
  {
   "cell_type": "code",
   "execution_count": 47,
   "id": "c43b24e0-0434-4feb-97c6-6ea1849e7a31",
   "metadata": {},
   "outputs": [
    {
     "name": "stdout",
     "output_type": "stream",
     "text": [
      "{'cebolla': (0.303, 0.203, 0.259, 0.39)}\n"
     ]
    },
    {
     "data": {
      "text/plain": [
       "dict"
      ]
     },
     "execution_count": 47,
     "metadata": {},
     "output_type": "execute_result"
    }
   ],
   "source": [
    "precio_Origen = { \"cebolla\": [30.3, 20.3, 25.9, 39.0], # céntimos/kg \n",
    "                 \"patata\":[0.33, 0.43, 0.34, 0.12], # euro/kg \n",
    "                 \"naranja\":[0.45, 0.56, 0.38, 0.43] # euro/kg }\n",
    "                }\n",
    "\n",
    "\n",
    "# Si lo quieres hacer a mano\n",
    "precio_Origen33 = { \"cebolla\": (0.303, 0.203,0.259 ,0.39) }\n",
    "\n",
    "print(precio_Origen33)\n",
    "type(precio_Origen33)\n"
   ]
  },
  {
   "cell_type": "code",
   "execution_count": null,
   "id": "bf2a3407-2c5e-4a77-8a7d-2b9a21dd5a95",
   "metadata": {},
   "outputs": [],
   "source": []
  },
  {
   "cell_type": "code",
   "execution_count": null,
   "id": "54f0dac5-2d40-43c0-8002-0fad736476d4",
   "metadata": {},
   "outputs": [],
   "source": [
    "while para hacer transofmracion de diccioanrio"
   ]
  },
  {
   "cell_type": "code",
   "execution_count": null,
   "id": "b10c6662-f759-4106-9776-f6d2e4ef4e02",
   "metadata": {},
   "outputs": [],
   "source": []
  },
  {
   "cell_type": "code",
   "execution_count": null,
   "id": "b49581c4-fec7-48d4-b772-d93d1484efc8",
   "metadata": {},
   "outputs": [],
   "source": []
  },
  {
   "cell_type": "code",
   "execution_count": 3,
   "id": "61331f50-8c70-4dde-8c3a-15351d62fae2",
   "metadata": {},
   "outputs": [
    {
     "name": "stdout",
     "output_type": "stream",
     "text": [
      "39.0\n",
      "0.43\n",
      "0.56\n",
      "cebolla\n",
      "La persona con la nota mas alta cebolla con una nota de 39.0\n"
     ]
    }
   ],
   "source": [
    "precio_Origen = { \"cebolla\": [30.3, 20.3, 25.9, 39.0], # céntimos/kg \n",
    "                 \"patata\":[0.33, 0.43, 0.34, 0.12], # euro/kg \n",
    "                 \"naranja\":[0.45, 0.56, 0.38, 0.43] # euro/kg }\n",
    "                }\n",
    "\n",
    "# ¿Cuál es el precio máximo de cada producto?\n",
    "\n",
    "\n",
    "print(max(precio_Origen[\"cebolla\"]))\n",
    "print(max(precio_Origen[\"patata\"]))\n",
    "print(max(precio_Origen[\"naranja\"]))\n",
    "\n",
    "maximo=max(precio_Origen,key=precio_Origen.get)\n",
    "\n",
    "print(maximo)\n",
    "\n",
    "# print(notas.get(\"Sofia\"))\n",
    "\n",
    "print(f\"La persona con la nota mas alta {maximo} con una nota de {max(precio_Origen[\"cebolla\"])}\")\n"
   ]
  },
  {
   "cell_type": "code",
   "execution_count": null,
   "id": "7556b403-7d5c-4456-9e02-410324e5e071",
   "metadata": {},
   "outputs": [],
   "source": []
  },
  {
   "cell_type": "code",
   "execution_count": null,
   "id": "d7b4b194-9f81-4b2b-9735-0795dff09a78",
   "metadata": {},
   "outputs": [],
   "source": []
  },
  {
   "cell_type": "code",
   "execution_count": 55,
   "id": "6d346f7c-e739-4157-bc02-bf1651195b54",
   "metadata": {},
   "outputs": [
    {
     "name": "stdout",
     "output_type": "stream",
     "text": [
      "dict_keys(['Juan', 'María', 'Pedro'])\n"
     ]
    }
   ],
   "source": [
    "puntuaciones = {\"Juan\": 80, \"María\": 90, \"Pedro\": 75}\n",
    "claves = puntuaciones.keys()  # Salida: claves = [\"Juan\", \"María\", \"Pedro\"]\n",
    "\n",
    "print(claves)"
   ]
  },
  {
   "cell_type": "code",
   "execution_count": 49,
   "id": "77835e30-fad7-4630-8871-0b95c63706a3",
   "metadata": {},
   "outputs": [
    {
     "name": "stdout",
     "output_type": "stream",
     "text": [
      "39.0\n",
      "0.43\n",
      "0.56\n",
      "cebolla\n",
      "El prodcuto mas caro es cebolla con un precio de 39.0\n"
     ]
    }
   ],
   "source": [
    "precio_Origen = { \"cebolla\": [30.3, 20.3, 25.9, 39.0], # céntimos/kg \n",
    "                 \"patata\":[0.33, 0.43, 0.34, 0.12], # euro/kg \n",
    "                 \"naranja\":[0.45, 0.56, 0.38, 0.43] # euro/kg }\n",
    "                }\n",
    "\n",
    "# ¿Cuál es el precio máximo de cada producto?\n",
    "\n",
    "print(max(precio_Origen[\"cebolla\"]))\n",
    "print(max(precio_Origen[\"patata\"]))\n",
    "print(max(precio_Origen[\"naranja\"]))\n",
    "\n",
    "\n",
    "\n",
    "\n",
    "\n",
    "# ¿Cuál es el producto más caro?\n",
    "\n",
    "maximo=max(precio_Origen,key=precio_Origen.get)\n",
    "print(maximo)\n",
    "\n",
    "print(f\"El prodcuto mas caro es {maximo} con un precio de {max(precio_Origen[\"cebolla\"])}\")\n",
    "\n",
    "\n",
    "# precio_Origen2=\n"
   ]
  },
  {
   "cell_type": "code",
   "execution_count": 41,
   "id": "cbecce6a-2492-4506-a31d-5d46a6aa54fa",
   "metadata": {},
   "outputs": [
    {
     "ename": "TypeError",
     "evalue": "'function' object is not subscriptable",
     "output_type": "error",
     "traceback": [
      "\u001b[1;31m---------------------------------------------------------------------------\u001b[0m",
      "\u001b[1;31mTypeError\u001b[0m                                 Traceback (most recent call last)",
      "Cell \u001b[1;32mIn[41], line 3\u001b[0m\n\u001b[0;32m      1\u001b[0m \u001b[38;5;66;03m# ¿Cuál es el precio máximo de cada producto?\u001b[39;00m\n\u001b[1;32m----> 3\u001b[0m \u001b[38;5;28mprint\u001b[39m(\u001b[38;5;28mmax\u001b[39m(\u001b[43mprecio_Origen\u001b[49m\u001b[43m[\u001b[49m\u001b[38;5;124;43m\"\u001b[39;49m\u001b[38;5;124;43mcebolla\u001b[39;49m\u001b[38;5;124;43m\"\u001b[39;49m\u001b[43m]\u001b[49m))\n\u001b[0;32m      4\u001b[0m \u001b[38;5;28mprint\u001b[39m(\u001b[38;5;28mmax\u001b[39m(precio_Origen[\u001b[38;5;124m\"\u001b[39m\u001b[38;5;124mpatata\u001b[39m\u001b[38;5;124m\"\u001b[39m]))\n\u001b[0;32m      5\u001b[0m \u001b[38;5;28mprint\u001b[39m(\u001b[38;5;28mmax\u001b[39m(precio_Origen[\u001b[38;5;124m\"\u001b[39m\u001b[38;5;124mnaranja\u001b[39m\u001b[38;5;124m\"\u001b[39m]))\n",
      "\u001b[1;31mTypeError\u001b[0m: 'function' object is not subscriptable"
     ]
    }
   ],
   "source": []
  },
  {
   "cell_type": "code",
   "execution_count": null,
   "id": "e981d8cd-1227-48aa-b654-d496aedae436",
   "metadata": {},
   "outputs": [],
   "source": []
  },
  {
   "cell_type": "code",
   "execution_count": 39,
   "id": "1de091f3-2c2d-43c7-afb7-b0e9f914d1d9",
   "metadata": {},
   "outputs": [
    {
     "name": "stdout",
     "output_type": "stream",
     "text": [
      "('patata', 0.43)\n"
     ]
    }
   ],
   "source": [
    "\n",
    "precio_Origen = { \"cebolla\": [30.3, 20.3, 25.9, 39.0], # céntimos/kg\n",
    "\"patata\":[0.33, 0.43, 0.34, 0.12], # euro/kg\n",
    "\"naranja\":[0.45, 0.56, 0.38, 0.43] # euro/kg\n",
    "}\n",
    "\n",
    "def precio_Origen():\n",
    "  return\"patata\",0.43\n",
    "\n",
    "print(precio_Origen()) "
   ]
  },
  {
   "cell_type": "code",
   "execution_count": null,
   "id": "6c992edb-c8c2-4e33-bd69-afc934abc14e",
   "metadata": {},
   "outputs": [],
   "source": []
  },
  {
   "cell_type": "code",
   "execution_count": 137,
   "id": "78925a97-3a0a-45fe-ad7f-6ef6393a71b0",
   "metadata": {},
   "outputs": [
    {
     "data": {
      "text/plain": [
       "[0.38, 0.43, 0.45, 0.56]"
      ]
     },
     "execution_count": 137,
     "metadata": {},
     "output_type": "execute_result"
    }
   ],
   "source": [
    "nombre = sorted(precio_Origen[\"naranja\"])\n",
    "nombre"
   ]
  },
  {
   "cell_type": "code",
   "execution_count": 147,
   "id": "e10dd049-dbf8-4bc9-a8e9-f06afeba3ea3",
   "metadata": {},
   "outputs": [
    {
     "ename": "KeyError",
     "evalue": "1",
     "output_type": "error",
     "traceback": [
      "\u001b[1;31m---------------------------------------------------------------------------\u001b[0m",
      "\u001b[1;31mKeyError\u001b[0m                                  Traceback (most recent call last)",
      "Cell \u001b[1;32mIn[147], line 1\u001b[0m\n\u001b[1;32m----> 1\u001b[0m \u001b[38;5;28msorted\u001b[39m(\u001b[43mprecio_Origen\u001b[49m\u001b[43m[\u001b[49m\u001b[38;5;241;43m1\u001b[39;49m\u001b[43m]\u001b[49m)\n",
      "\u001b[1;31mKeyError\u001b[0m: 1"
     ]
    }
   ],
   "source": []
  },
  {
   "cell_type": "code",
   "execution_count": null,
   "id": "ea77193d-4af9-4615-a721-98c656092974",
   "metadata": {},
   "outputs": [],
   "source": []
  },
  {
   "cell_type": "code",
   "execution_count": 122,
   "id": "6a2f50da-16b9-4772-adba-16852d48c0e9",
   "metadata": {},
   "outputs": [],
   "source": [
    "points = {'Jake': 100, 'Andy': 450, 'Kate': 230}\n",
    "max_value = max(precio_Origen2.values())"
   ]
  },
  {
   "cell_type": "code",
   "execution_count": 119,
   "id": "4c2ae1e1-dbeb-4d09-ad68-fa94a2f972f2",
   "metadata": {},
   "outputs": [
    {
     "data": {
      "text/plain": [
       "{'Andy': 450}"
      ]
     },
     "execution_count": 119,
     "metadata": {},
     "output_type": "execute_result"
    }
   ],
   "source": [
    "{key:value for key, value in points.items() if value == max_value}\n"
   ]
  },
  {
   "cell_type": "code",
   "execution_count": 123,
   "id": "8c43dc59-72a1-4865-b417-c9ae998b31a9",
   "metadata": {},
   "outputs": [
    {
     "data": {
      "text/plain": [
       "{'naranja': [0.45, 0.56, 0.38, 0.43]}"
      ]
     },
     "execution_count": 123,
     "metadata": {},
     "output_type": "execute_result"
    }
   ],
   "source": [
    "{key:value for key, value in precio_Origen2.items() if value == max_value}\n"
   ]
  },
  {
   "cell_type": "code",
   "execution_count": 80,
   "id": "9c75b2bc-8861-41f4-b40e-5d8d32c894cb",
   "metadata": {},
   "outputs": [
    {
     "name": "stdout",
     "output_type": "stream",
     "text": [
      "dict_items([('Jake', 100), ('Andy', 450), ('Kate', 230)])\n"
     ]
    }
   ],
   "source": [
    " print(points.items())"
   ]
  },
  {
   "cell_type": "code",
   "execution_count": 83,
   "id": "968b5d6c-e850-4ad8-8a40-1523e49477c0",
   "metadata": {},
   "outputs": [
    {
     "name": "stdout",
     "output_type": "stream",
     "text": [
      "Key associated to the maximum value: Andy - Maximum value: 450\n"
     ]
    }
   ],
   "source": [
    "print(\"Key associated to the maximum value: {} - Maximum value: {}\".format(max(points, key=points.get), points[max(points, key=points.get)]))\n"
   ]
  },
  {
   "cell_type": "code",
   "execution_count": null,
   "id": "5f242a05-0a97-46f3-af87-65a8f122a248",
   "metadata": {},
   "outputs": [],
   "source": []
  },
  {
   "cell_type": "code",
   "execution_count": null,
   "id": "441d3bb2-4362-4a86-bfc7-e10bdd14193e",
   "metadata": {},
   "outputs": [],
   "source": []
  },
  {
   "cell_type": "code",
   "execution_count": null,
   "id": "ba343087-d543-4ac5-b639-ff9dda233081",
   "metadata": {},
   "outputs": [],
   "source": []
  },
  {
   "cell_type": "code",
   "execution_count": 59,
   "id": "a4b7c22e-ef34-4467-996b-efe3d89e0aba",
   "metadata": {},
   "outputs": [
    {
     "name": "stdin",
     "output_type": "stream",
     "text": [
      "Introduce el nombre del producto:  pan\n",
      "Introduce el nuevo precio de pan:  2.3\n"
     ]
    },
    {
     "name": "stdout",
     "output_type": "stream",
     "text": [
      "Diccionario de productos y precios actualizado: {'pan': 2.3, 'leche': 0.99, 'huevos': 2.5}\n"
     ]
    }
   ],
   "source": [
    " # Definir un diccionario de productos y precios\n",
    "productos = {\n",
    "    \"pan\": 1.20,\n",
    "    \"leche\": 0.99,\n",
    "    \"huevos\": 2.50\n",
    "}\n",
    "\n",
    "# Pedir al usuario el nombre del producto y el nuevo precio\n",
    "producto = input(\"Introduce el nombre del producto: \")\n",
    "precio = float(input(f\"Introduce el nuevo precio de {producto}: \"))\n",
    "\n",
    "# Actualizar el precio o agregar el producto\n",
    "productos[producto] = precio\n",
    "\n",
    "# Mostrar el diccionario actualizado\n",
    "print(\"Diccionario de productos y precios actualizado:\", productos)"
   ]
  },
  {
   "cell_type": "code",
   "execution_count": null,
   "id": "250d10ea-dd8b-4fcd-b8f1-5f0cf04ff380",
   "metadata": {},
   "outputs": [],
   "source": []
  },
  {
   "cell_type": "code",
   "execution_count": 131,
   "id": "fde4c332-507d-4429-a1ef-a8c35373a730",
   "metadata": {},
   "outputs": [
    {
     "data": {
      "text/plain": [
       "[79, 99]"
      ]
     },
     "execution_count": 131,
     "metadata": {},
     "output_type": "execute_result"
    }
   ],
   "source": [
    "Nota = [79,77,99]\n",
    "maximos = sorted(Nota)[-2:]\n",
    "\n",
    "prom = sum(maximos)/2\n",
    "maximos"
   ]
  },
  {
   "cell_type": "code",
   "execution_count": null,
   "id": "01b02bc2-22a5-4459-b275-d90792f2e93b",
   "metadata": {},
   "outputs": [],
   "source": []
  },
  {
   "cell_type": "code",
   "execution_count": null,
   "id": "26b9876b-d4cf-4fdf-83a0-c1ba8573c85a",
   "metadata": {},
   "outputs": [],
   "source": []
  },
  {
   "cell_type": "code",
   "execution_count": null,
   "id": "487fe8e0-5cfe-48bc-b88e-48281142f6ee",
   "metadata": {},
   "outputs": [],
   "source": []
  },
  {
   "cell_type": "code",
   "execution_count": null,
   "id": "5e130eb9-29bf-4b0c-9786-5fa4fdc54fb2",
   "metadata": {},
   "outputs": [],
   "source": []
  },
  {
   "cell_type": "code",
   "execution_count": null,
   "id": "01fef4d9-9f61-49b5-8bef-7f35e2ce77aa",
   "metadata": {},
   "outputs": [],
   "source": []
  },
  {
   "cell_type": "code",
   "execution_count": null,
   "id": "b008b54d-2ca7-4d7c-b9c6-aedbcf257de6",
   "metadata": {},
   "outputs": [],
   "source": []
  }
 ],
 "metadata": {
  "kernelspec": {
   "display_name": "Python 3 (ipykernel)",
   "language": "python",
   "name": "python3"
  },
  "language_info": {
   "codemirror_mode": {
    "name": "ipython",
    "version": 3
   },
   "file_extension": ".py",
   "mimetype": "text/x-python",
   "name": "python",
   "nbconvert_exporter": "python",
   "pygments_lexer": "ipython3",
   "version": "3.12.0"
  }
 },
 "nbformat": 4,
 "nbformat_minor": 5
}
