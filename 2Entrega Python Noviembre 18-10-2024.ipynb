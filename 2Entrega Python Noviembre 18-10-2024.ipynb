{
 "cells": [
  {
   "cell_type": "markdown",
   "id": "77c68353-bc85-4b7e-8062-5080563da1e2",
   "metadata": {},
   "source": [
    "### https://github.com/1Nestor/Entrega-Python\n"
   ]
  },
  {
   "cell_type": "code",
   "execution_count": null,
   "id": "225f2d37-20d3-419b-b6a3-a86b4cf2341d",
   "metadata": {},
   "outputs": [],
   "source": []
  },
  {
   "cell_type": "code",
   "execution_count": null,
   "id": "f2ac9b26-bbad-4cef-aaba-78e125aea5dd",
   "metadata": {},
   "outputs": [],
   "source": []
  },
  {
   "cell_type": "markdown",
   "id": "00c1c7e0-7763-4fd3-9e85-e784ec7b8282",
   "metadata": {},
   "source": [
    "## 1 Realizar una función que recibe 3 números (d, m, a) que representan una fecha (dia, mes y año). El programa debe devolver el día (la fecha) siguiente a la recibida por parámetro. Se debe tener en cuenta los días de cada mes y los años bisiestos."
   ]
  },
  {
   "cell_type": "code",
   "execution_count": null,
   "id": "e58ea1ef-6b22-49c4-8be0-cd32ed8ae15a",
   "metadata": {},
   "outputs": [],
   "source": []
  },
  {
   "cell_type": "code",
   "execution_count": null,
   "id": "24588b59-7062-4557-8e78-ead681c3c323",
   "metadata": {},
   "outputs": [],
   "source": []
  },
  {
   "cell_type": "code",
   "execution_count": null,
   "id": "dd91d22e-c161-4dbe-b097-01a185f36765",
   "metadata": {},
   "outputs": [
    {
     "name": "stdout",
     "output_type": "stream",
     "text": [
      "Ingresa una fecha: \n",
      "Dia:  "
     ]
    }
   ],
   "source": [
    "###### Variables de Dia, Mes, Año\n",
    "dia = 0\n",
    "mes = 0\n",
    "anio = 0\n",
    "\n",
    "# Variables de Dia siguiente, Mes siguiente , Año siguiente\n",
    "siguiente_dia = 0\n",
    "siguiente_mes = 0\n",
    "siguiente_anio = 0\n",
    "\n",
    "# Meses con 31 días y 30 días\n",
    "mes31 = (1,3,5,7,8,10) # meses con 31 días\n",
    "mes30 = (4,6,9,11) # meses con 30 días\n",
    "\n",
    "while True:\n",
    "    # Ingresar fechas \n",
    "    print(\"Ingresa una fecha: \")\n",
    "    print(\"Dia: \", end = \" \")\n",
    "    dia = int(input())\n",
    "    print(\"Mes: \", end = \" \")\n",
    "    mes = int(input())\n",
    "    print(\"Año: \", end = \" \")\n",
    "    anio = int(input())\n",
    "\n",
    "    # Días en condiciones normales\n",
    "    siguiente_dia = dia + 1\n",
    "    siguiente_mes = mes\n",
    "\n",
    "    # Para el último día del año\n",
    "    if mes == 12 and dia == 31:\n",
    "        siguiente_dia = 1\n",
    "        siguiente_mes = 1\n",
    "        siguiente_anio = anio + 1\n",
    "    else:\n",
    "        siguiente_anio = anio\n",
    "\n",
    "    # Último día de los meses con 31 días\n",
    "    for i in range(len(mes31)):\n",
    "        if dia == 31 and mes == mes31[i]:\n",
    "            siguiente_dia = 1\n",
    "            siguiente_mes = mes + 1\n",
    "            \n",
    "    # Último día de los meses con 30 días        \n",
    "    for i in range(len(mes30)):\n",
    "        if dia == 30 and mes == mes30[i]:\n",
    "            siguiente_dia = 1\n",
    "            siguiente_mes = mes + 1\n",
    "            \n",
    "    #  # Último día de los meses con 30 días que da error si pones 31   \n",
    "    # for i in range(len(mes30)):\n",
    "    #     if dia >= 31 and mes == mes30[i]:\n",
    "    #         siguiente_dia = 1\n",
    "    #         siguiente_mes = mes + 1\n",
    "\n",
    "     # Último día de los meses con 30 días que da error si pones 31 o 32   \n",
    "    for i in range(len(mes30)):\n",
    "        if dia >= 31 and mes == mes30[i]:\n",
    "            print(\"Ingresaste una fecha INVALIDA, favor de escribir fechas reales\")\n",
    "            \n",
    "     # Último día de los meses con 31 días que da error si pones 32         \n",
    "    for i in range(len(mes31)):\n",
    "        if dia > 31 and mes == mes31[i]:\n",
    "            print(\"Ingresaste una fecha INVALIDA, favor de escribir fechas reales\")\n",
    "\n",
    "    \n",
    "    # Último día de Febrero de dia 28 No bisiesto\n",
    "    if mes == 2 and dia == 28:\n",
    "        siguiente_dia = 1\n",
    "        siguiente_mes = mes + 1\n",
    "    bisiesto = anio % 4\n",
    "\n",
    "    \n",
    "    # Último día de Febrero de dia 28 y bisiesto\n",
    "    \n",
    "    if dia == 28 and mes == 2 and bisiesto == 0:\n",
    "        siguiente_dia = 29\n",
    "        siguiente_mes = mes\n",
    "\n",
    "    \n",
    "    # Último día de Febrero de dia 29 y bisiesto\n",
    "\n",
    "    if dia == 29 and mes == 2 and bisiesto == 0:\n",
    "        siguiente_dia = 1\n",
    "        siguiente_mes = mes + 1\n",
    "\n",
    "        \n",
    "    # Límites para la validación: días correctos e incorrectos , meses correctos e incorrectos\n",
    "  \n",
    "    if dia >= 32 or mes >= 13:\n",
    "        print(\"Ingresaste una fecha INVALIDA, favor de escribir fechas reales\")\n",
    "\n",
    "    if dia >= 31 and mes in mes30:\n",
    "        print(\"Ingresaste una fecha INVALIDA, favor de escribir fechas reales\")\n",
    "    \n",
    "    if siguiente_dia > 31:\n",
    "        print(\"Ingresaste una fecha INVALIDA, favor de escribir fechas reales\")\n",
    "        \n",
    "    if siguiente_dia >29 and mes == 2:\n",
    "        print(\"Ingresaste una fecha INVALIDA, favor de escribir fechas reales\")\n",
    "        \n",
    "    else:\n",
    "        print(\"Dia Ingresado: \", dia, \"/\", mes, \"/\", anio)\n",
    "        print(\"Siguiente dia: \", siguiente_dia, \"/\", siguiente_mes, \"/\", siguiente_anio)"
   ]
  },
  {
   "cell_type": "code",
   "execution_count": null,
   "id": "ce50f1a8-8d6a-4494-89c1-90dce881c335",
   "metadata": {},
   "outputs": [],
   "source": []
  },
  {
   "cell_type": "code",
   "execution_count": null,
   "id": "fbaf7b18-ecf2-4689-8b83-5e0c09a05eb8",
   "metadata": {},
   "outputs": [],
   "source": []
  },
  {
   "cell_type": "code",
   "execution_count": null,
   "id": "4fb31c91-faea-4086-8f08-650c1bb0f6dd",
   "metadata": {},
   "outputs": [],
   "source": []
  },
  {
   "cell_type": "markdown",
   "id": "9be36c6f-9937-4510-9eff-f606f3917f9e",
   "metadata": {},
   "source": [
    "# 2.Dada la siguiente lista: \n",
    "\n",
    "palabras_espanol = [\"Perro\", \"Gato\", \"Casa\", \"Coche\",\n",
    "\"Arbol\", \"Sol\", \"Luna\", \"Mar\", \"Montaña\", \"Río\",\n",
    "\"Playa\", \"Libro\", \"Computadora\", \"Teléfono\",\n",
    "\"Amigo\", \"Familia\", \"Trabajo\", \"Comida\", \"Película\",\n",
    "\"Música\", \"Viaje\", \"Deporte\", \"Juego\", \"Amor\", \"Odio\",\n",
    "\"Felicidad\", \"Tristeza\", \"Alegría\", \"Dolor\", \"Sueño\",\"Noche\", \"Día\", \"Agua\", \"Fuego\", \"Aire\", \"Tierra\",\n",
    "\"Cielo\", \"Estrella\", \"Flor\", \"Fruta\", \"Verdura\",\n",
    "\"Chocolate\", \"Café\", \"Té\", \"Vino\", \"Cerveza\",\n",
    "\"Dinero\", \"Tiempo\", \"Reloj\", \"Reloj\"]\n",
    "\n",
    "# Construye un programa que muestre por pantalla cuantas veces aparece cada una de ellas.\n"
   ]
  },
  {
   "cell_type": "code",
   "execution_count": 3,
   "id": "fad730bd-1782-446f-b0eb-9ed9151f35f6",
   "metadata": {},
   "outputs": [
    {
     "name": "stdout",
     "output_type": "stream",
     "text": [
      "{'Playa': 1, 'Viaje': 1, 'Música': 1, 'Familia': 1, 'Sueño': 1, 'Chocolate': 1, 'Tristeza': 1, 'Computadora': 1, 'Luna': 1, 'Sol': 1, 'Arbol': 1, 'Teléfono': 1, 'Comida': 1, 'Dinero': 1, 'Montaña': 1, 'Gato': 1, 'Mar': 1, 'Vino': 1, 'Odio': 1, 'Día': 1, 'Perro': 1, 'Cielo': 1, 'Trabajo': 1, 'Tierra': 1, 'Amor': 1, 'Verdura': 1, 'Felicidad': 1, 'Café': 1, 'Alegría': 1, 'Estrella': 1, 'Tiempo': 1, 'Película': 1, 'Fuego': 1, 'Flor': 1, 'Té': 1, 'Agua': 1, 'Casa': 1, 'Dolor': 1, 'Fruta': 1, 'Deporte': 1, 'Cerveza': 1, 'Coche': 1, 'Libro': 1, 'Noche': 1, 'Amigo': 1, 'Aire': 1, 'Río': 1, 'Reloj': 2, 'Juego': 1}\n"
     ]
    }
   ],
   "source": [
    "palabras_espanol = [\"Perro\", \"Gato\", \"Casa\", \"Coche\",\n",
    "\"Arbol\", \"Sol\", \"Luna\", \"Mar\", \"Montaña\", \"Río\",\n",
    "\"Playa\", \"Libro\", \"Computadora\", \"Teléfono\",\n",
    "\"Amigo\", \"Familia\", \"Trabajo\", \"Comida\", \"Película\",\n",
    "\"Música\", \"Viaje\", \"Deporte\", \"Juego\", \"Amor\", \"Odio\",\n",
    "\"Felicidad\", \"Tristeza\", \"Alegría\", \"Dolor\", \"Sueño\",\"Noche\", \"Día\", \"Agua\", \"Fuego\", \"Aire\", \"Tierra\",\n",
    "\"Cielo\", \"Estrella\", \"Flor\", \"Fruta\", \"Verdura\",\n",
    "\"Chocolate\", \"Café\", \"Té\", \"Vino\", \"Cerveza\",\n",
    "\"Dinero\", \"Tiempo\", \"Reloj\", \"Reloj\"]\n",
    "\n",
    "\n",
    "print (dict((i, palabras_espanol.count(i)) for i in set(palabras_espanol)))"
   ]
  },
  {
   "cell_type": "code",
   "execution_count": null,
   "id": "cd4a37a2-e8b2-4661-bac2-b7d9c8860190",
   "metadata": {},
   "outputs": [],
   "source": []
  },
  {
   "cell_type": "code",
   "execution_count": null,
   "id": "ed007389-889c-4b09-b7f1-8ef216c37e4a",
   "metadata": {},
   "outputs": [],
   "source": []
  },
  {
   "cell_type": "code",
   "execution_count": null,
   "id": "d0771e7a-8be5-44fb-b10a-f0ee598aa167",
   "metadata": {},
   "outputs": [],
   "source": []
  },
  {
   "attachments": {},
   "cell_type": "markdown",
   "id": "2f6a4549-087a-4fe2-9bcf-9b82159bffd2",
   "metadata": {},
   "source": [
    "# 3.Dado el siguiente diccionario: \n",
    "precio_Origen = { \"cebolla\": [30.3, 20.3, 25.9, 39.0], # céntimos/kg \n",
    "                 \"patata\":[0.33, 0.43, 0.34, 0.12], # euro/kg \n",
    "                 \"naranja\":[0.45, 0.56, 0.38, 0.43] # euro/kg } \n",
    "Responde a las siguientes preguntas: • ¿Cuál es el precio máximo de cada producto?\n",
    "\n",
    "• ¿Cuál es el precio máximo de cada producto?\n",
    "\n",
    "• ¿Cuál es el producto más caro?\n",
    "\n",
    "• ¿Qué día son más caras las naranjas?\n"
   ]
  },
  {
   "cell_type": "code",
   "execution_count": 4,
   "id": "9d5ef144-0b16-4490-b5b7-15987d5ef631",
   "metadata": {},
   "outputs": [
    {
     "name": "stdout",
     "output_type": "stream",
     "text": [
      "cebolla\n"
     ]
    }
   ],
   "source": [
    "precio_Origen = { \"cebolla\": [30.3, 20.3, 25.9, 39.0], # céntimos/kg \n",
    "                 \"patata\":[0.33, 0.43, 0.34, 0.12], # euro/kg \n",
    "                 \"naranja\":[0.45, 0.56, 0.38, 0.43] # euro/kg }\n",
    "                }\n",
    "\n",
    "# ¿Cuál es el producto más caro?\n",
    "\n",
    "p_max = max(precio_Origen, key=lambda key: precio_Origen[key])\n",
    "print(p_max)\n",
    "\n",
    "\n"
   ]
  },
  {
   "cell_type": "markdown",
   "id": "6400ebb1-4b3c-4c9f-9329-88560fe49a89",
   "metadata": {},
   "source": [
    "### Dado que no todos los productos están en misma magnitud de peso y monetaria, unos céntimos kg otros euros kg decido modificar el diccionario para que todas las variables estén en la misma magnitud peso y moneda dando lugar al diccionario precio_Origen2"
   ]
  },
  {
   "cell_type": "code",
   "execution_count": 5,
   "id": "a434558c-3359-4634-b360-452f50890fd5",
   "metadata": {},
   "outputs": [],
   "source": [
    "# Dado que no todos los productos están en misma magnitud de peso y monetaria, unos céntimos kg otros euros kg\n",
    "# decido modificar el diccionario para que todas las variables estén en la misma magnitud peso y moneda\n",
    "# dando lugar al diccionario precio_Origen2\n",
    "\n",
    "\n",
    "precio_Origen2=precio_Origen\n",
    "precio_Origen2[\"cebolla\"]=[30.3/100,20.3/100,25.9/100,39/100]\n",
    "\n"
   ]
  },
  {
   "cell_type": "code",
   "execution_count": null,
   "id": "49839043-8f39-4851-b64a-e12a6013521e",
   "metadata": {},
   "outputs": [],
   "source": []
  },
  {
   "cell_type": "markdown",
   "id": "2aaac11c-2e78-4f53-b446-a305a4a16ad0",
   "metadata": {},
   "source": [
    "### ¿Cuál es el producto más caro?"
   ]
  },
  {
   "cell_type": "code",
   "execution_count": 6,
   "id": "ccc3a95f-471f-4cd4-a7cc-22543cacc772",
   "metadata": {},
   "outputs": [
    {
     "name": "stdout",
     "output_type": "stream",
     "text": [
      "naranja\n",
      "---------------------------------------------------------------------------\n",
      "{'cebolla': [0.303, 0.203, 0.259, 0.39], 'patata': [0.33, 0.43, 0.34, 0.12], 'naranja': [0.45, 0.56, 0.38, 0.43]}\n",
      "---------------------------------------------------------------------------\n",
      " El producto más caro es la naranja, con un precio de 0.56\n"
     ]
    }
   ],
   "source": [
    "p_max = max(precio_Origen2, key=lambda key: precio_Origen2[key])\n",
    "print(p_max)\n",
    "\n",
    "print(\"---\"*25)\n",
    "\n",
    "print(precio_Origen2)\n",
    "print(\"---\"*25)\n",
    "# type(precio_Origen2)\n",
    "\n",
    "print(f\" El producto más caro es la {p_max}, con un precio de {max(precio_Origen2[\"naranja\"])}\")"
   ]
  },
  {
   "cell_type": "code",
   "execution_count": null,
   "id": "dd40b2a9-a48c-4f99-ab83-3c0fa17c465c",
   "metadata": {},
   "outputs": [],
   "source": []
  },
  {
   "cell_type": "code",
   "execution_count": null,
   "id": "0905830c-3755-4537-8478-98c8c4c497ac",
   "metadata": {},
   "outputs": [],
   "source": []
  },
  {
   "cell_type": "markdown",
   "id": "6a0373a8-5fa0-4858-87d0-94c4306a78ce",
   "metadata": {},
   "source": [
    "### ¿Cuál es el precio máximo de cada producto?\n",
    "#### Decido usar precio_Origen2 en adelante, dado que todas las magnitudes monetarias son iguales para cada categoria"
   ]
  },
  {
   "cell_type": "code",
   "execution_count": null,
   "id": "20e16148-f1dd-485f-9a1f-7297adc39931",
   "metadata": {},
   "outputs": [],
   "source": []
  },
  {
   "cell_type": "code",
   "execution_count": 7,
   "id": "f05168ce-fdc0-4e71-b4c6-680d918ffe7b",
   "metadata": {},
   "outputs": [
    {
     "name": "stdout",
     "output_type": "stream",
     "text": [
      "0.39\n",
      "0.43\n",
      "0.56\n",
      "El precio maxímo de la cebolla es 0.39 €, el precio maxímo de la patata es 0.43 € y el precio maxímo de la naranja es 0.56 €\n"
     ]
    }
   ],
   "source": [
    "# ¿Cuál es el precio máximo de cada producto?\n",
    "print(max(precio_Origen2[\"cebolla\"]))\n",
    "print(max(precio_Origen2[\"patata\"]))\n",
    "print(max(precio_Origen2[\"naranja\"]))\n",
    "\n",
    "\n",
    "print(f\"El precio maxímo de la cebolla es {max(precio_Origen2[\"cebolla\"])} €, el precio maxímo de la patata es {max(precio_Origen2[\"patata\"])} € y el precio maxímo de la naranja es {max(precio_Origen2[\"naranja\"])} €\")"
   ]
  },
  {
   "cell_type": "code",
   "execution_count": null,
   "id": "67bffc6b-a7e7-4577-947a-5e962dfde877",
   "metadata": {},
   "outputs": [],
   "source": []
  },
  {
   "cell_type": "code",
   "execution_count": null,
   "id": "405f71c9-828f-41ad-8662-f0589e763c8d",
   "metadata": {},
   "outputs": [],
   "source": []
  },
  {
   "cell_type": "markdown",
   "id": "fa0a6585-eefa-48f5-8a37-4a149d60cf86",
   "metadata": {},
   "source": [
    "### ¿Qué día son más caras las naranjas?\n"
   ]
  },
  {
   "cell_type": "code",
   "execution_count": null,
   "id": "b364d150-47d7-46c2-afec-687ee2dd31b2",
   "metadata": {},
   "outputs": [],
   "source": []
  },
  {
   "cell_type": "code",
   "execution_count": 8,
   "id": "3da64f86-4736-4630-a127-773ac733b879",
   "metadata": {},
   "outputs": [
    {
     "name": "stdout",
     "output_type": "stream",
     "text": [
      "[0.45, 0.56, 0.38, 0.43]\n",
      "------------------------------------------------------------\n",
      " Si el 1º número que aparece en cada clave del diccionario corresponde al lunes, el día en que la naranja es más cara, sería el martes con un precio de 0.56 €\n"
     ]
    }
   ],
   "source": [
    "# ¿Qué día son más caras las naranjas?\n",
    "\n",
    "print(precio_Origen[\"naranja\"])\n",
    "print(\"---\"*20)\n",
    "print(f\" Si el 1º número que aparece en cada clave del diccionario corresponde al lunes, el día en que la {p_max} es más cara, sería el martes con un precio de {(precio_Origen2[\"naranja\"][1])} €\")"
   ]
  },
  {
   "cell_type": "code",
   "execution_count": null,
   "id": "ea77193d-4af9-4615-a721-98c656092974",
   "metadata": {},
   "outputs": [],
   "source": []
  },
  {
   "cell_type": "code",
   "execution_count": null,
   "id": "ba343087-d543-4ac5-b639-ff9dda233081",
   "metadata": {},
   "outputs": [],
   "source": []
  },
  {
   "cell_type": "code",
   "execution_count": null,
   "id": "250d10ea-dd8b-4fcd-b8f1-5f0cf04ff380",
   "metadata": {},
   "outputs": [],
   "source": []
  },
  {
   "cell_type": "code",
   "execution_count": null,
   "id": "01b02bc2-22a5-4459-b275-d90792f2e93b",
   "metadata": {},
   "outputs": [],
   "source": []
  },
  {
   "cell_type": "markdown",
   "id": "e0336a1c-f789-4031-bb7f-3d1946d15ce4",
   "metadata": {},
   "source": [
    "### Problema\n",
    "### Una empresa tiene un inventario de productos con diferentes categorıas, y cada producto tiene un precio y una cantidad en stock. El objetivo es gestionar el inventario de forma eficiente. Instrucciones:\n",
    "\n",
    "#### 1. Crea un diccionario donde la clave sea el nombre de una categorıa de producto y el valor sea una lista de tuplas. Cada tupla contendrá el nombre del producto, el precio y la cantidad en stock.\n",
    "#### 2. Crea una funcion que calcule el valor total de inventario por categorıa (precio por cantidad para cada producto)\n",
    "#### 3. Muestra la categorıa que tiene el valor total más alto en inventario.\n",
    "#### 4. Añade una opción para actualizar el stock de un producto en una categorıa especıfica."
   ]
  },
  {
   "cell_type": "code",
   "execution_count": null,
   "id": "487fe8e0-5cfe-48bc-b88e-48281142f6ee",
   "metadata": {},
   "outputs": [],
   "source": []
  },
  {
   "cell_type": "code",
   "execution_count": null,
   "id": "e5b9dfb8-7d0d-42b8-afec-6122cd622a09",
   "metadata": {},
   "outputs": [],
   "source": []
  },
  {
   "cell_type": "code",
   "execution_count": null,
   "id": "f1b40490-b2ad-4816-814e-014a2b815092",
   "metadata": {},
   "outputs": [],
   "source": []
  },
  {
   "cell_type": "markdown",
   "id": "c6fa3853-2702-44db-ae13-c15f0d0975e6",
   "metadata": {},
   "source": [
    "### 1. Crea un diccionario donde la clave sea el nombre de una categorıa de producto y el valor sea una lista de tuplas. \n",
    "### Cada tupla contendrá el nombre del producto, el precio y la cantidad en stock."
   ]
  },
  {
   "cell_type": "code",
   "execution_count": null,
   "id": "00cc85ce-878c-4d10-8930-2af596cccfda",
   "metadata": {},
   "outputs": [],
   "source": [
    "# inventario_= { \"categoria1\": [nombre_prod1, precio1, cantidad1], \n",
    "#                  \"categoria2\":[nombre_prod2,precio2, cantidad2],  \n",
    "#                  \"categoria3\":[nombre_prod3,precio3, cantidad3] \n",
    "         # }"
   ]
  },
  {
   "cell_type": "code",
   "execution_count": 9,
   "id": "02a72a47-e550-4a69-949d-d41ded2f2160",
   "metadata": {},
   "outputs": [
    {
     "name": "stdout",
     "output_type": "stream",
     "text": [
      "{'categoria1': ('Cola', 1.0, 10.0), 'categoria2': ('Vino', 4.0, 20.0)}\n",
      "------------------------------------------------------------\n",
      "Cola\n",
      "1.0\n",
      "10.0\n",
      "------------------------------------------------------------\n",
      "Vino\n",
      "4.0\n",
      "20.0\n"
     ]
    }
   ],
   "source": [
    "# categoria1 = input(\"Nombre de la categoría 1: \")\n",
    "# categoria2 = input(\"Nombre de la categoría 2: \")\n",
    "\n",
    "# nombre_prod1=input(\"Nombre del producto 1: \")\n",
    "# nombre_prod2=input(\"Nombre del producto 2: \")\n",
    "\n",
    "\n",
    "# precio1 = float(input(\"Precio del producto 1 : \"))\n",
    "# precio2 = float(input(\"Precio del producto 2: \"))\n",
    "\n",
    "# cantidad1 = float(input(\"Cantidad del producto 1: \"))\n",
    "# cantidad2 = float(input(\"Cantidad del producto 2: \"))\n",
    "\n",
    "\n",
    "# Para agilizar el proceso defino las variables y no uso el input\n",
    "\n",
    "categoria1 = \"Refrescos\"\n",
    "categoria2 = \"Alcohol\"\n",
    "\n",
    "nombre_prod1=\"Cola\"\n",
    "nombre_prod2=\"Vino\"\n",
    "\n",
    "precio1 = float(1)\n",
    "precio2 = float(4)\n",
    "\n",
    "cantidad1 = float(10)\n",
    "cantidad2 = float(20)\n",
    "\n",
    "inventario_= { \"categoria1\": (nombre_prod1, precio1, cantidad1),\n",
    "                 \"categoria2\":(nombre_prod2,precio2, cantidad2)\n",
    "             }\n",
    "print(inventario_)\n",
    "print(\"---\"*20)\n",
    "\n",
    "print(inventario_[\"categoria1\"][0])\n",
    "print(inventario_[\"categoria1\"][1])\n",
    "print(inventario_[\"categoria1\"][2])\n",
    "\n",
    "print(\"---\"*20)\n",
    "\n",
    "print(inventario_[\"categoria2\"][0])\n",
    "print(inventario_[\"categoria2\"][1])\n",
    "print(inventario_[\"categoria2\"][2])\n"
   ]
  },
  {
   "cell_type": "code",
   "execution_count": null,
   "id": "1d0d42c7-8d3d-4000-a948-5fe5be8badbf",
   "metadata": {},
   "outputs": [],
   "source": []
  },
  {
   "cell_type": "code",
   "execution_count": null,
   "id": "50bb6246-7668-4593-b913-11df08c8b5bd",
   "metadata": {},
   "outputs": [],
   "source": []
  },
  {
   "cell_type": "code",
   "execution_count": null,
   "id": "247c3b5c-96d7-4284-89c0-d80ff2113658",
   "metadata": {},
   "outputs": [],
   "source": []
  },
  {
   "cell_type": "markdown",
   "id": "4be3f021-9137-43ca-95a6-876317f158f1",
   "metadata": {},
   "source": [
    "### 2. Crea una funcion que calcule el valor total de inventario por categorıa (precio por cantidad para cada producto)"
   ]
  },
  {
   "cell_type": "code",
   "execution_count": 10,
   "id": "fcdde055-4a27-40dc-8ec9-96794c02a990",
   "metadata": {},
   "outputs": [
    {
     "name": "stdout",
     "output_type": "stream",
     "text": [
      "dict_keys(['categoria1', 'categoria2'])\n",
      "('Cola', 'Vino')\n",
      "(1.0, 4.0)\n",
      "(10.0, 20.0)\n",
      "------------------------------------------------------------\n",
      "------------------------------------------------------------\n",
      "|Cola                |      1.00|     10.00|     10.00|\n",
      "+--------------------+----------+----------+----------+\n",
      "|Vino                |      4.00|     20.00|     80.00|\n",
      "+--------------------+----------+----------+----------+\n",
      "El Producto con más ingresos es: Vino, con 80.0 euros\n",
      "{'categoria1': ('Cola', 1.0, 10.0), 'categoria2': ('Vino', 4.0, 20.0)}\n"
     ]
    }
   ],
   "source": [
    "categorias_=(inventario_.keys())\n",
    "\n",
    "nombres_=(inventario_[\"categoria1\"][0],inventario_[\"categoria2\"][0])\n",
    "\n",
    "precios_=(inventario_[\"categoria1\"][1],inventario_[\"categoria2\"][1])\n",
    "\n",
    "cantidades_=(inventario_[\"categoria1\"][2],inventario_[\"categoria2\"][2])\n",
    "\n",
    "print(categorias_)\n",
    "print(nombres_)\n",
    "print(precios_)\n",
    "print(cantidades_)\n",
    "\n",
    "# print(type(nombres_))\n",
    "# print(type(precios_))\n",
    "# print(type(cantidades_))\n",
    "\n",
    "print(\"---\"*20)\n",
    "print(\"---\"*20)\n",
    "\n",
    "if len(nombres_) <= 0:\n",
    "    print(\"No hay artículos\")\n",
    "    \n",
    "# Los nombres de artículos\n",
    "articulo_con_mas_ingresos = nombres_[0:1]\n",
    "\n",
    "mas_vendido = cantidades_[0:2]\n",
    "menos_vendido = cantidades_[0:2]\n",
    "con_mas_ingresos = cantidades_[0] * precios_[0]\n",
    "con_menos_ingresos = cantidades_[0] * precios_[0]\n",
    "\n",
    "indice = 0\n",
    "total = 0\n",
    "while indice < len(nombres_):\n",
    "    nombre = nombres_[indice]\n",
    "    precio = precios_[indice]\n",
    "    cantidad_vendida = cantidades_[indice]\n",
    "    importe = precio * cantidad_vendida\n",
    "    print(\"|{:<20}|{:>10.2f}|{:>10.2f}|{:>10.2f}|\".format(\n",
    "        nombre,precio,cantidad_vendida, importe))\n",
    "    print(\"+--------------------+----------+----------+----------+\")\n",
    "\n",
    "    if importe > con_mas_ingresos:\n",
    "        con_mas_ingresos = importe\n",
    "        articulo_con_mas_ingresos = nombre\n",
    "\n",
    "    total += importe\n",
    "    indice += 1\n",
    "\n",
    "print(f\"El Producto con más ingresos es: {articulo_con_mas_ingresos}, con {con_mas_ingresos} euros\")\n",
    "print(inventario_)"
   ]
  },
  {
   "cell_type": "code",
   "execution_count": null,
   "id": "025ae2f9-4d80-4f5f-afdb-39ada10dd652",
   "metadata": {},
   "outputs": [],
   "source": []
  },
  {
   "cell_type": "code",
   "execution_count": null,
   "id": "960aaf3e-b5d3-4726-b6ba-0d4ec9898479",
   "metadata": {},
   "outputs": [],
   "source": []
  },
  {
   "cell_type": "code",
   "execution_count": null,
   "id": "6ba66f53-3e82-4169-8770-2df749f5e46b",
   "metadata": {},
   "outputs": [],
   "source": []
  },
  {
   "cell_type": "markdown",
   "id": "0744950e-e486-47fd-9890-09ead78be64c",
   "metadata": {},
   "source": [
    "### 3. Muestra la categorıa que tiene el valor total más alto en inventario."
   ]
  },
  {
   "cell_type": "markdown",
   "id": "3ff5b410-117f-4373-afa2-cba3e45637e8",
   "metadata": {},
   "source": [
    "#### Lo he intentado de todas las formas posibles y ya estoy harto, sinceramente"
   ]
  },
  {
   "cell_type": "code",
   "execution_count": 11,
   "id": "c800d6b6-c0c4-4f15-a3f6-a14e4dce2ecc",
   "metadata": {},
   "outputs": [
    {
     "name": "stdout",
     "output_type": "stream",
     "text": [
      "-+-+--+-+--+-+--+-+--+-+--+-+--+-+--+-+--+-+--+-+--+-+--+-+--+-+--+-+--+-+--+-+--+-+--+-+--+-+--+-+-\n",
      "categoria2\n",
      "categoria2 ('Vino', 4.0, 20.0)\n",
      "-+-+--+-+--+-+--+-+--+-+--+-+--+-+--+-+--+-+--+-+--+-+--+-+--+-+--+-+--+-+--+-+--+-+--+-+--+-+--+-+-\n",
      "10.0\n",
      "80.0\n",
      "------------------------------------------------------------\n",
      "80.0\n",
      "------------------------------------------------------------\n"
     ]
    },
    {
     "data": {
      "text/plain": [
       "{'categoria1': ('Cola', 1.0, 10.0), 'categoria2': ('Vino', 4.0, 20.0)}"
      ]
     },
     "execution_count": 11,
     "metadata": {},
     "output_type": "execute_result"
    }
   ],
   "source": [
    "maximo= max(inventario_.values(), key=lambda k: k[1])\n",
    "maxKey = next(k for k, v in inventario_.items() if v == maximo)\n",
    "maxKey\n",
    "\n",
    "print(\"-+-+-\"*20)\n",
    "\n",
    "\n",
    "\n",
    "p_max = max(inventario_, key=lambda key: inventario_[key])\n",
    "print(p_max)\n",
    "\n",
    "\n",
    "print(max(inventario_, key=inventario_.get), inventario_[max(inventario_, key=inventario_.get)])\n",
    "\n",
    "total1=inventario_[\"categoria1\"][1]*inventario_[\"categoria1\"][2]\n",
    "total2=inventario_[\"categoria2\"][1]*inventario_[\"categoria2\"][2] \n",
    "\n",
    "print(\"-+-+-\"*20)\n",
    "\n",
    "print(total1)\n",
    "print(total2)\n",
    "\n",
    "print(\"---\"*20)\n",
    "maxis=max(total1,total2)\n",
    "print(maxis)\n",
    "print(\"---\"*20)\n",
    "\n",
    "inventario_\n",
    "\n",
    "\n",
    "\n",
    "# Dados los valores iniciales, en este caso es la categoria2\n"
   ]
  },
  {
   "cell_type": "code",
   "execution_count": null,
   "id": "4f40b510-a851-4267-9266-c8ef85a0e86f",
   "metadata": {},
   "outputs": [],
   "source": []
  },
  {
   "cell_type": "code",
   "execution_count": null,
   "id": "377b67f3-0d0a-4953-8443-c48315dde306",
   "metadata": {},
   "outputs": [],
   "source": []
  },
  {
   "cell_type": "markdown",
   "id": "eed3ea2c-985a-49ab-961b-7ef2cabd9848",
   "metadata": {},
   "source": [
    "### 4. Añade una opción para actualizar el stock de un producto en una categorıa especıfica.\n",
    "\n",
    "#### No lo he conseguido resolverlo"
   ]
  },
  {
   "cell_type": "code",
   "execution_count": null,
   "id": "5eeb610e-351c-4e86-a833-fb0fcb38f0b2",
   "metadata": {},
   "outputs": [],
   "source": []
  },
  {
   "cell_type": "code",
   "execution_count": 13,
   "id": "ef20a2d8-ed61-4b79-a8a6-d96f12ebf43c",
   "metadata": {},
   "outputs": [
    {
     "name": "stdout",
     "output_type": "stream",
     "text": [
      "Stock actualizado: Cola ahora tiene 120 unidades.\n",
      "Stock actualizado: Vino ahora tiene 100 unidades.\n"
     ]
    },
    {
     "data": {
      "text/plain": [
       "{'categoria1': ('Cola', 1.0, 10.0), 'categoria2': ('Vino', 4.0, 20.0)}"
      ]
     },
     "execution_count": 13,
     "metadata": {},
     "output_type": "execute_result"
    }
   ],
   "source": [
    "def actualizar_cantidad(nombre, cantidad):\n",
    "    for producto in inventario_:\n",
    "        if nombre == nombre:\n",
    "            cantidad += cantidad\n",
    "            print(f\"Stock actualizado: {nombre} ahora tiene {cantidad} unidades.\")\n",
    "            return\n",
    "    print(\"Producto no encontrado.\")\n",
    "\n",
    "actualizar_cantidad(nombres_[0],60)\n",
    "actualizar_cantidad(nombres_[1],50)\n",
    "\n",
    "inventario_\n",
    "\n",
    "# Casi pero no , aquí lo dejo, no he conseguido resolverlo\n",
    "\n",
    "# inventario_[\"categoria1\"][1:3]=actualizar_cantidad(nombres_[0],60)\n",
    "# Una tupla no puede recibir un item"
   ]
  },
  {
   "cell_type": "code",
   "execution_count": null,
   "id": "2132a080-f045-4434-8545-de554091ca77",
   "metadata": {},
   "outputs": [],
   "source": []
  }
 ],
 "metadata": {
  "kernelspec": {
   "display_name": "Python 3 (ipykernel)",
   "language": "python",
   "name": "python3"
  },
  "language_info": {
   "codemirror_mode": {
    "name": "ipython",
    "version": 3
   },
   "file_extension": ".py",
   "mimetype": "text/x-python",
   "name": "python",
   "nbconvert_exporter": "python",
   "pygments_lexer": "ipython3",
   "version": "3.12.0"
  }
 },
 "nbformat": 4,
 "nbformat_minor": 5
}
